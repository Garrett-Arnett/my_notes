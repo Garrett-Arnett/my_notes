{
 "cells": [
  {
   "cell_type": "markdown",
   "id": "03b51bc0",
   "metadata": {},
   "source": [
    "## reading files with python"
   ]
  },
  {
   "cell_type": "code",
   "execution_count": null,
   "id": "4c5c1c3c",
   "metadata": {},
   "outputs": [],
   "source": [
    "# terminal-oriented process:\n",
    "# touch the file to make it\n",
    "# add content via a text editor (vim, vscode, etc)\n",
    "#save the thing\n",
    "#look the thing\n",
    "\n",
    "# our order with python\n",
    "# open(my file location, what i want to do with it)\n",
    "# my_file.txt lives here so i do not need to specifu a path"
   ]
  },
  {
   "cell_type": "code",
   "execution_count": 15,
   "id": "bf5d502b",
   "metadata": {},
   "outputs": [],
   "source": [
    "f = open('my_file.txt', 'r')"
   ]
  },
  {
   "cell_type": "code",
   "execution_count": 17,
   "id": "6fac5930",
   "metadata": {},
   "outputs": [
    {
     "data": {
      "text/plain": [
       "'Hello\\nThere\\nMy name is \\nGarrett'"
      ]
     },
     "execution_count": 17,
     "metadata": {},
     "output_type": "execute_result"
    }
   ],
   "source": [
    "f.read()"
   ]
  },
  {
   "cell_type": "code",
   "execution_count": 29,
   "id": "f2e53adf",
   "metadata": {},
   "outputs": [],
   "source": [
    "with open('my_file.txt', 'r') as f:\n",
    "    my_content = f.read()"
   ]
  },
  {
   "cell_type": "code",
   "execution_count": 22,
   "id": "b3659def",
   "metadata": {},
   "outputs": [
    {
     "data": {
      "text/plain": [
       "['Hello\\n', 'There\\n', 'My name is \\n', 'Garrett']"
      ]
     },
     "execution_count": 22,
     "metadata": {},
     "output_type": "execute_result"
    }
   ],
   "source": [
    "my_content"
   ]
  },
  {
   "cell_type": "code",
   "execution_count": 31,
   "id": "bb685e7d",
   "metadata": {},
   "outputs": [],
   "source": [
    "# with open => file locatoin, interaction, \n",
    "with open('my_file.txt', 'w') as f:\n",
    "    f.write('here is stuff')\n",
    "    "
   ]
  },
  {
   "cell_type": "code",
   "execution_count": 32,
   "id": "a39dff08",
   "metadata": {},
   "outputs": [],
   "source": [
    "with open('my_file.txt', 'a') as f:\n",
    "    f.writelines(['here is stuff and more\\n',' and another line\\n'])\n",
    "    "
   ]
  },
  {
   "cell_type": "code",
   "execution_count": null,
   "id": "dface4d7",
   "metadata": {},
   "outputs": [],
   "source": [
    "# note :append content: will add content\n",
    "# write mode w will overwrite content\n",
    "\n",
    "# welcome to the OS"
   ]
  },
  {
   "cell_type": "code",
   "execution_count": 33,
   "id": "88bfc751",
   "metadata": {},
   "outputs": [],
   "source": [
    "import os"
   ]
  },
  {
   "cell_type": "code",
   "execution_count": 36,
   "id": "0ce7939e",
   "metadata": {},
   "outputs": [
    {
     "name": "stdout",
     "output_type": "stream",
     "text": [
      "it exists!\n"
     ]
    }
   ],
   "source": [
    "''' we are checking to see if the file exists here\\\n",
    "otherwise we make a new file with the same name'''\n",
    "\n",
    "if os.path.exists('my_file.txt'):\n",
    "    print('it exists!')\n",
    "    with open('my_file.txt', 'r') as f:\n",
    "        lines = f.readlines()\n",
    "else:\n",
    "    print('DNE')\n",
    "    with open('my_file.txt', 'w') as f:\n",
    "        f.write('brand new file')"
   ]
  },
  {
   "cell_type": "code",
   "execution_count": 47,
   "id": "5fd137ce",
   "metadata": {},
   "outputs": [],
   "source": [
    "# lets make a csv:\n",
    "with open('baby_csv_csv', 'w') as f:\n",
    "    f.writelines(\n",
    "    ['feild_1, feild_2, feild_3\\n','0, 25, ham\\n','1, 29, sandwich\\n'])\n",
    "    "
   ]
  },
  {
   "cell_type": "code",
   "execution_count": 48,
   "id": "ed40d96e",
   "metadata": {},
   "outputs": [
    {
     "ename": "ValueError",
     "evalue": "I/O operation on closed file.",
     "output_type": "error",
     "traceback": [
      "\u001b[0;31m---------------------------------------------------------------------------\u001b[0m",
      "\u001b[0;31mValueError\u001b[0m                                Traceback (most recent call last)",
      "\u001b[0;32m/var/folders/f5/r0cvcy8d6bl6nqmwjp01nhjh0000gn/T/ipykernel_33411/3205977489.py\u001b[0m in \u001b[0;36m<module>\u001b[0;34m\u001b[0m\n\u001b[0;32m----> 1\u001b[0;31m \u001b[0mbaby_csv_csv\u001b[0m \u001b[0;34m=\u001b[0m \u001b[0mf\u001b[0m\u001b[0;34m.\u001b[0m\u001b[0mreadlines\u001b[0m\u001b[0;34m(\u001b[0m\u001b[0;34m)\u001b[0m\u001b[0;34m\u001b[0m\u001b[0;34m\u001b[0m\u001b[0m\n\u001b[0m\u001b[1;32m      2\u001b[0m \u001b[0mbaby_csv_csv\u001b[0m\u001b[0;34m\u001b[0m\u001b[0;34m\u001b[0m\u001b[0m\n",
      "\u001b[0;31mValueError\u001b[0m: I/O operation on closed file."
     ]
    }
   ],
   "source": [
    "baby_csv_csv = f.readlines()\n",
    "baby_csv_csv"
   ]
  },
  {
   "cell_type": "code",
   "execution_count": 46,
   "id": "88125b0c",
   "metadata": {},
   "outputs": [],
   "source": [
    "import csv"
   ]
  },
  {
   "cell_type": "code",
   "execution_count": null,
   "id": "b5aa50c4",
   "metadata": {},
   "outputs": [],
   "source": [
    "# DictWriter, DictReader"
   ]
  },
  {
   "cell_type": "code",
   "execution_count": 49,
   "id": "ea1e91c3",
   "metadata": {},
   "outputs": [
    {
     "data": {
      "text/plain": [
       "{'item': 'milk', 'category': 'dairy', 'price': 100.0}"
      ]
     },
     "execution_count": 49,
     "metadata": {},
     "output_type": "execute_result"
    }
   ],
   "source": [
    "# lets make a reciept\n",
    "#item, category, price\n",
    "# itme: what thing\n",
    "# category: what type thing\n",
    "# price: money\n",
    "cols = ['item', 'category', 'price']\n",
    "transaction = {\n",
    "    'item': 'milk',\n",
    "    'category': 'dairy',\n",
    "    'price': 100.00\n",
    "}\n",
    "transaction\n",
    "    "
   ]
  },
  {
   "cell_type": "code",
   "execution_count": null,
   "id": "d67ee303",
   "metadata": {},
   "outputs": [],
   "source": [
    "#csv.DisctWriter needs:\n",
    "# what file its writing to (f)\n",
    "# feild names (cols)"
   ]
  },
  {
   "cell_type": "code",
   "execution_count": 51,
   "id": "7e969ba5",
   "metadata": {},
   "outputs": [],
   "source": [
    "with open('groceries.csv', 'w') as f:\n",
    "    writer = csv.DictWriter(f, fieldnames=cols)\n",
    "    writer.writeheader()\n",
    "    writer.writerow(transaction)\n",
    "    \n",
    "    "
   ]
  },
  {
   "cell_type": "code",
   "execution_count": 52,
   "id": "6ca9f6e6",
   "metadata": {},
   "outputs": [],
   "source": [
    "# append a new line of info\n",
    "# so as not to overwrite\n",
    "# 'a' == append\n",
    "with open('groceries.csv', 'a') as f:\n",
    "    writer = csv.DictWriter(f, fieldnames=cols)\n",
    "    writer.writerow(\n",
    "    {\n",
    "        'item': 'eggs',\n",
    "        'category': 'dairy',\n",
    "        'price': 500.00\n",
    "    })"
   ]
  },
  {
   "cell_type": "code",
   "execution_count": 57,
   "id": "f85abd21",
   "metadata": {},
   "outputs": [],
   "source": [
    "# read in a csv:\n",
    "with open('groceries.csv', 'r') as f:\n",
    "    content = csv.DictReader(f, fieldnames=cols)\n",
    "    lines = []\n",
    "    for line in content:\n",
    "        lines.append(line)"
   ]
  },
  {
   "cell_type": "code",
   "execution_count": 59,
   "id": "5e495651",
   "metadata": {},
   "outputs": [
    {
     "data": {
      "text/plain": [
       "[{'item': 'milk', 'category': 'dairy', 'price': '100.0'},\n",
       " {'item': 'eggs', 'category': 'dairy', 'price': '500.0'}]"
      ]
     },
     "execution_count": 59,
     "metadata": {},
     "output_type": "execute_result"
    }
   ],
   "source": [
    "lines[1:]"
   ]
  },
  {
   "cell_type": "code",
   "execution_count": 62,
   "id": "c3d98549",
   "metadata": {},
   "outputs": [],
   "source": [
    "# same thing with lsit comprehension, skipping lines with colon\n",
    "with open('groceries.csv', 'r') as f:\n",
    "    content = csv.DictReader(f, fieldnames=cols)\n",
    "    lines = [line for line in content][1:]"
   ]
  },
  {
   "cell_type": "code",
   "execution_count": 61,
   "id": "57ebafd2",
   "metadata": {},
   "outputs": [
    {
     "data": {
      "text/plain": [
       "[{'item': 'milk', 'category': 'dairy', 'price': '100.0'},\n",
       " {'item': 'eggs', 'category': 'dairy', 'price': '500.0'}]"
      ]
     },
     "execution_count": 61,
     "metadata": {},
     "output_type": "execute_result"
    }
   ],
   "source": [
    "lines"
   ]
  },
  {
   "cell_type": "code",
   "execution_count": null,
   "id": "b47c4a5b",
   "metadata": {},
   "outputs": [],
   "source": []
  },
  {
   "cell_type": "code",
   "execution_count": null,
   "id": "a91fffc8",
   "metadata": {},
   "outputs": [],
   "source": []
  }
 ],
 "metadata": {
  "kernelspec": {
   "display_name": "Python 3 (ipykernel)",
   "language": "python",
   "name": "python3"
  },
  "language_info": {
   "codemirror_mode": {
    "name": "ipython",
    "version": 3
   },
   "file_extension": ".py",
   "mimetype": "text/x-python",
   "name": "python",
   "nbconvert_exporter": "python",
   "pygments_lexer": "ipython3",
   "version": "3.9.13"
  }
 },
 "nbformat": 4,
 "nbformat_minor": 5
}
