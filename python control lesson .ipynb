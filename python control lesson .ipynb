{
 "cells": [
  {
   "cell_type": "code",
   "execution_count": 1,
   "id": "85be3fc7",
   "metadata": {},
   "outputs": [],
   "source": [
    "#### Control Structures\n",
    "\n",
    "### Topic 1: if statements"
   ]
  },
  {
   "cell_type": "code",
   "execution_count": null,
   "id": "34f32850",
   "metadata": {},
   "outputs": [],
   "source": [
    "\n",
    "# an if statement controls what action i do when\n",
    "\n",
    "# if <thing>:\n",
    "#    <do action>"
   ]
  },
  {
   "cell_type": "code",
   "execution_count": 4,
   "id": "0834a209",
   "metadata": {},
   "outputs": [],
   "source": [
    "breakfast = 'coffee'\n",
    "# single = is assign ... == is equivalence check"
   ]
  },
  {
   "cell_type": "code",
   "execution_count": 5,
   "id": "c5b6bd45",
   "metadata": {},
   "outputs": [
    {
     "data": {
      "text/plain": [
       "'coffee'"
      ]
     },
     "execution_count": 5,
     "metadata": {},
     "output_type": "execute_result"
    }
   ],
   "source": [
    "breakfast"
   ]
  },
  {
   "cell_type": "code",
   "execution_count": 6,
   "id": "341562bd",
   "metadata": {},
   "outputs": [],
   "source": [
    "if breakfast == 'banana':\n",
    "    pringt('you had a fruit')"
   ]
  },
  {
   "cell_type": "code",
   "execution_count": 7,
   "id": "7246e37a",
   "metadata": {},
   "outputs": [
    {
     "name": "stdout",
     "output_type": "stream",
     "text": [
      "you had something else, or nothing\n"
     ]
    }
   ],
   "source": [
    "# if i build this out with an else\n",
    "if breakfast == 'banana':\n",
    "    print('you had a fruit')\n",
    "else:\n",
    "    print('you had something else, or nothing')"
   ]
  },
  {
   "cell_type": "code",
   "execution_count": 8,
   "id": "a9352ec5",
   "metadata": {},
   "outputs": [],
   "source": [
    "breakfast = 'banana'"
   ]
  },
  {
   "cell_type": "code",
   "execution_count": 9,
   "id": "482b99e7",
   "metadata": {},
   "outputs": [
    {
     "data": {
      "text/plain": [
       "str"
      ]
     },
     "execution_count": 9,
     "metadata": {},
     "output_type": "execute_result"
    }
   ],
   "source": [
    "type(breakfast)"
   ]
  },
  {
   "cell_type": "code",
   "execution_count": 10,
   "id": "11d3a57a",
   "metadata": {},
   "outputs": [
    {
     "data": {
      "text/plain": [
       "'banana'"
      ]
     },
     "execution_count": 10,
     "metadata": {},
     "output_type": "execute_result"
    }
   ],
   "source": [
    "breakfast"
   ]
  },
  {
   "cell_type": "code",
   "execution_count": 15,
   "id": "216a3281",
   "metadata": {},
   "outputs": [],
   "source": [
    "had_coffee = True"
   ]
  },
  {
   "cell_type": "code",
   "execution_count": 16,
   "id": "fcb31b10",
   "metadata": {},
   "outputs": [
    {
     "name": "stdout",
     "output_type": "stream",
     "text": [
      "you had a fruit\n"
     ]
    }
   ],
   "source": [
    "\n",
    "if breakfast == 'banana':\n",
    "    print('you had a fruit')\n",
    "elif not had_coffee:\n",
    "    print(' you need more caffeine')\n",
    "else:\n",
    "    print('you had something else, or nothing')"
   ]
  },
  {
   "cell_type": "code",
   "execution_count": 18,
   "id": "777f830f",
   "metadata": {},
   "outputs": [
    {
     "name": "stdout",
     "output_type": "stream",
     "text": [
      "hi breakfast\n"
     ]
    }
   ],
   "source": [
    "if breakfast:\n",
    "    print('hi breakfast')"
   ]
  },
  {
   "cell_type": "code",
   "execution_count": null,
   "id": "6e2db750",
   "metadata": {},
   "outputs": [],
   "source": [
    "# check for a non existing variable. result is an error"
   ]
  },
  {
   "cell_type": "code",
   "execution_count": 19,
   "id": "174ad12f",
   "metadata": {},
   "outputs": [
    {
     "ename": "NameError",
     "evalue": "name 'lunch' is not defined",
     "output_type": "error",
     "traceback": [
      "\u001b[0;31m---------------------------------------------------------------------------\u001b[0m",
      "\u001b[0;31mNameError\u001b[0m                                 Traceback (most recent call last)",
      "\u001b[0;32m/var/folders/f5/r0cvcy8d6bl6nqmwjp01nhjh0000gn/T/ipykernel_17301/2082505326.py\u001b[0m in \u001b[0;36m<module>\u001b[0;34m\u001b[0m\n\u001b[0;32m----> 1\u001b[0;31m \u001b[0;32mif\u001b[0m \u001b[0mlunch\u001b[0m\u001b[0;34m:\u001b[0m\u001b[0;34m\u001b[0m\u001b[0;34m\u001b[0m\u001b[0m\n\u001b[0m\u001b[1;32m      2\u001b[0m     \u001b[0mprint\u001b[0m\u001b[0;34m(\u001b[0m\u001b[0;34m'hi lunch'\u001b[0m\u001b[0;34m)\u001b[0m\u001b[0;34m\u001b[0m\u001b[0;34m\u001b[0m\u001b[0m\n",
      "\u001b[0;31mNameError\u001b[0m: name 'lunch' is not defined"
     ]
    }
   ],
   "source": [
    "if lunch:\n",
    "    print('hi lunch')"
   ]
  },
  {
   "cell_type": "code",
   "execution_count": 20,
   "id": "fc7cb47e",
   "metadata": {},
   "outputs": [
    {
     "data": {
      "text/plain": [
       "True"
      ]
     },
     "execution_count": 20,
     "metadata": {},
     "output_type": "execute_result"
    }
   ],
   "source": [
    "had_coffee"
   ]
  },
  {
   "cell_type": "code",
   "execution_count": 21,
   "id": "6e832a7e",
   "metadata": {},
   "outputs": [
    {
     "data": {
      "text/plain": [
       "'banana'"
      ]
     },
     "execution_count": 21,
     "metadata": {},
     "output_type": "execute_result"
    }
   ],
   "source": [
    "breakfast"
   ]
  },
  {
   "cell_type": "code",
   "execution_count": null,
   "id": "678552e8",
   "metadata": {},
   "outputs": [],
   "source": [
    "# remove the not for had coffee"
   ]
  },
  {
   "cell_type": "code",
   "execution_count": 27,
   "id": "956cb5a4",
   "metadata": {},
   "outputs": [
    {
     "name": "stdout",
     "output_type": "stream",
     "text": [
      "had fruit\n"
     ]
    }
   ],
   "source": [
    "if not had_coffee:\n",
    "    print('need caffeine')\n",
    "if breakfast == 'banana':\n",
    "    print('had fruit')\n",
    "else:\n",
    "    print('you had something else, or nothing')"
   ]
  },
  {
   "cell_type": "code",
   "execution_count": 24,
   "id": "e9077739",
   "metadata": {},
   "outputs": [
    {
     "name": "stdout",
     "output_type": "stream",
     "text": [
      "somewhat balanced breakfast\n"
     ]
    }
   ],
   "source": [
    "if had_coffee and breakfast == 'banana':\n",
    "    print('somewhat balanced breakfast')\n",
    "else:\n",
    "    ('you do you')"
   ]
  },
  {
   "cell_type": "code",
   "execution_count": 28,
   "id": "b820f11f",
   "metadata": {},
   "outputs": [
    {
     "name": "stdout",
     "output_type": "stream",
     "text": [
      "need caffeine\n"
     ]
    }
   ],
   "source": [
    "if had_coffee:\n",
    "    print('need caffeine')\n",
    "elif breakfast == 'banana':\n",
    "    print('had fruit')\n",
    "else:\n",
    "    print('you had something else, or nothing')"
   ]
  },
  {
   "cell_type": "code",
   "execution_count": 29,
   "id": "152e4c3e",
   "metadata": {},
   "outputs": [
    {
     "name": "stdout",
     "output_type": "stream",
     "text": [
      "thats a string value\n",
      "fruit\n"
     ]
    }
   ],
   "source": [
    "# nesting\n",
    "if type(breakfast) == str:\n",
    "    print('thats a string value')\n",
    "    if breakfast in ['banana','orange']:\n",
    "        print('fruit')\n",
    "    else:\n",
    "        print('not fruit')\n",
    "else:\n",
    "    print('not a string')"
   ]
  },
  {
   "cell_type": "code",
   "execution_count": 31,
   "id": "9fbb43b6",
   "metadata": {},
   "outputs": [
    {
     "name": "stdout",
     "output_type": "stream",
     "text": [
      "not a string\n"
     ]
    }
   ],
   "source": [
    "#break\n",
    "\n",
    "if type(breakfast) == bool:\n",
    "    print('thats a string value')\n",
    "    if breakfast in ['banana','orange']:\n",
    "        print('fruit')\n",
    "    else:\n",
    "        print('not fruit')\n",
    "else:\n",
    "    print('not a string')"
   ]
  },
  {
   "cell_type": "code",
   "execution_count": null,
   "id": "6c8ebc84",
   "metadata": {},
   "outputs": [],
   "source": [
    "# string as list like"
   ]
  },
  {
   "cell_type": "code",
   "execution_count": 32,
   "id": "2ee21b7b",
   "metadata": {},
   "outputs": [
    {
     "data": {
      "text/plain": [
       "True"
      ]
     },
     "execution_count": 32,
     "metadata": {},
     "output_type": "execute_result"
    }
   ],
   "source": [
    "'a' in 'banana'"
   ]
  },
  {
   "cell_type": "code",
   "execution_count": 33,
   "id": "f39ef169",
   "metadata": {},
   "outputs": [
    {
     "data": {
      "text/plain": [
       "False"
      ]
     },
     "execution_count": 33,
     "metadata": {},
     "output_type": "execute_result"
    }
   ],
   "source": [
    "'z' in 'banana'"
   ]
  },
  {
   "cell_type": "code",
   "execution_count": 34,
   "id": "996725d4",
   "metadata": {},
   "outputs": [
    {
     "data": {
      "text/plain": [
       "True"
      ]
     },
     "execution_count": 34,
     "metadata": {},
     "output_type": "execute_result"
    }
   ],
   "source": [
    "'ana' in 'banana'"
   ]
  },
  {
   "cell_type": "code",
   "execution_count": 35,
   "id": "e776deac",
   "metadata": {},
   "outputs": [
    {
     "data": {
      "text/plain": [
       "'n'"
      ]
     },
     "execution_count": 35,
     "metadata": {},
     "output_type": "execute_result"
    }
   ],
   "source": [
    "'banana'[2]"
   ]
  },
  {
   "cell_type": "code",
   "execution_count": 36,
   "id": "a09d7849",
   "metadata": {},
   "outputs": [
    {
     "data": {
      "text/plain": [
       "['b', 'a', 'n', 'a', 'n', 'a']"
      ]
     },
     "execution_count": 36,
     "metadata": {},
     "output_type": "execute_result"
    }
   ],
   "source": [
    "[let for let in 'banana']"
   ]
  },
  {
   "cell_type": "code",
   "execution_count": 43,
   "id": "968f0149",
   "metadata": {},
   "outputs": [],
   "source": [
    "gwen_list_2 = [let+'!' for let in 'banana']"
   ]
  },
  {
   "cell_type": "code",
   "execution_count": 39,
   "id": "f097e600",
   "metadata": {},
   "outputs": [],
   "source": [
    "\n",
    "### Loops "
   ]
  },
  {
   "cell_type": "code",
   "execution_count": null,
   "id": "f3f37537",
   "metadata": {},
   "outputs": [],
   "source": [
    "# a for loop will do an action per everything inside\n",
    "#an iterable defined in the loop\n",
    "\n",
    "#for i in itr:\n",
    "#            do action, probably related to i"
   ]
  },
  {
   "cell_type": "code",
   "execution_count": 49,
   "id": "4d0f8560",
   "metadata": {},
   "outputs": [],
   "source": [
    "gwen_list = [\n",
    "    let for let in 'bananas']"
   ]
  },
  {
   "cell_type": "code",
   "execution_count": 50,
   "id": "5c046b78",
   "metadata": {},
   "outputs": [
    {
     "data": {
      "text/plain": [
       "['b', 'a', 'n', 'a', 'n', 'a', 's']"
      ]
     },
     "execution_count": 50,
     "metadata": {},
     "output_type": "execute_result"
    }
   ],
   "source": [
    "gwen_list"
   ]
  },
  {
   "cell_type": "code",
   "execution_count": null,
   "id": "6d9f5d31",
   "metadata": {},
   "outputs": [],
   "source": []
  },
  {
   "cell_type": "code",
   "execution_count": 51,
   "id": "ebc81a16",
   "metadata": {},
   "outputs": [
    {
     "data": {
      "text/plain": [
       "'4ba'"
      ]
     },
     "execution_count": 51,
     "metadata": {},
     "output_type": "execute_result"
    }
   ],
   "source": [
    "# type casting\n",
    "\n",
    "str(4) + 'ba'\n",
    "# changed 4 into string\n",
    "'4' + 'ba'"
   ]
  },
  {
   "cell_type": "code",
   "execution_count": 53,
   "id": "d1bdc92e",
   "metadata": {},
   "outputs": [
    {
     "data": {
      "text/plain": [
       "4"
      ]
     },
     "execution_count": 53,
     "metadata": {},
     "output_type": "execute_result"
    }
   ],
   "source": [
    "int('4')"
   ]
  },
  {
   "cell_type": "code",
   "execution_count": 57,
   "id": "b39137ea",
   "metadata": {},
   "outputs": [
    {
     "name": "stdout",
     "output_type": "stream",
     "text": [
      "good morning!5\n"
     ]
    }
   ],
   "source": [
    "# some stuff requires input\n",
    "\n",
    "my_user_var = input('good morning!')"
   ]
  },
  {
   "cell_type": "code",
   "execution_count": 58,
   "id": "6d49e30d",
   "metadata": {},
   "outputs": [
    {
     "data": {
      "text/plain": [
       "'5'"
      ]
     },
     "execution_count": 58,
     "metadata": {},
     "output_type": "execute_result"
    }
   ],
   "source": [
    "my_user_var"
   ]
  },
  {
   "cell_type": "code",
   "execution_count": 59,
   "id": "338141bd",
   "metadata": {},
   "outputs": [
    {
     "ename": "TypeError",
     "evalue": "'>' not supported between instances of 'str' and 'int'",
     "output_type": "error",
     "traceback": [
      "\u001b[0;31m---------------------------------------------------------------------------\u001b[0m",
      "\u001b[0;31mTypeError\u001b[0m                                 Traceback (most recent call last)",
      "\u001b[0;32m/var/folders/f5/r0cvcy8d6bl6nqmwjp01nhjh0000gn/T/ipykernel_17301/3726753132.py\u001b[0m in \u001b[0;36m<module>\u001b[0;34m\u001b[0m\n\u001b[0;32m----> 1\u001b[0;31m \u001b[0mmy_user_var\u001b[0m \u001b[0;34m>\u001b[0m \u001b[0;36m4\u001b[0m\u001b[0;34m\u001b[0m\u001b[0;34m\u001b[0m\u001b[0m\n\u001b[0m",
      "\u001b[0;31mTypeError\u001b[0m: '>' not supported between instances of 'str' and 'int'"
     ]
    }
   ],
   "source": [
    "my_user_var > 4"
   ]
  },
  {
   "cell_type": "code",
   "execution_count": null,
   "id": "0a22570e",
   "metadata": {},
   "outputs": [],
   "source": []
  },
  {
   "cell_type": "code",
   "execution_count": 63,
   "id": "195789d7",
   "metadata": {},
   "outputs": [],
   "source": [
    "breakfast = 'banana'"
   ]
  },
  {
   "cell_type": "code",
   "execution_count": 65,
   "id": "6b990f5d",
   "metadata": {},
   "outputs": [
    {
     "data": {
      "text/plain": [
       "'banana'"
      ]
     },
     "execution_count": 65,
     "metadata": {},
     "output_type": "execute_result"
    }
   ],
   "source": [
    "breakfast.lower()"
   ]
  },
  {
   "cell_type": "code",
   "execution_count": 66,
   "id": "f292ddea",
   "metadata": {},
   "outputs": [
    {
     "name": "stdout",
     "output_type": "stream",
     "text": [
      "Object `lower` not found.\n"
     ]
    }
   ],
   "source": [
    ".lower?"
   ]
  },
  {
   "cell_type": "code",
   "execution_count": 67,
   "id": "e2997af6",
   "metadata": {},
   "outputs": [],
   "source": [
    "str.lower?\n",
    "# str.lower?\n",
    "#if we want to get documentation on a method, we can also use the ?"
   ]
  },
  {
   "cell_type": "code",
   "execution_count": null,
   "id": "dd9948a8",
   "metadata": {},
   "outputs": [],
   "source": [
    "# while loops:\n",
    "# see annoy_me.py\n",
    "#if this condition is true, keep doing this action"
   ]
  },
  {
   "cell_type": "code",
   "execution_count": null,
   "id": "6b356e60",
   "metadata": {},
   "outputs": [],
   "source": [
    "# for loops:\n",
    "# for everything in the buch of things, do this"
   ]
  },
  {
   "cell_type": "code",
   "execution_count": 68,
   "id": "f14224bf",
   "metadata": {},
   "outputs": [],
   "source": [
    "my_fruit_list = ['bannana','apple','persimmon','grapefruit','kiwi']"
   ]
  },
  {
   "cell_type": "code",
   "execution_count": 69,
   "id": "e594b164",
   "metadata": {},
   "outputs": [
    {
     "data": {
      "text/plain": [
       "['bannana', 'apple', 'persimmon', 'grapefruit', 'kiwi']"
      ]
     },
     "execution_count": 69,
     "metadata": {},
     "output_type": "execute_result"
    }
   ],
   "source": [
    "my_fruit_list"
   ]
  },
  {
   "cell_type": "code",
   "execution_count": 70,
   "id": "0904c862",
   "metadata": {},
   "outputs": [
    {
     "name": "stdout",
     "output_type": "stream",
     "text": [
      "bannana\n",
      "apple\n",
      "persimmon\n",
      "grapefruit\n",
      "kiwi\n"
     ]
    }
   ],
   "source": [
    "# lets build out a loop arounf by fruit list\n",
    "\n",
    "for item in my_fruit_list:\n",
    "    print(item)"
   ]
  },
  {
   "cell_type": "code",
   "execution_count": 72,
   "id": "519aa82e",
   "metadata": {},
   "outputs": [
    {
     "name": "stdout",
     "output_type": "stream",
     "text": [
      "0\n",
      "bannana\n",
      "1\n",
      "apple\n",
      "2\n",
      "persimmon\n",
      "3\n",
      "grapefruit\n",
      "4\n",
      "kiwi\n"
     ]
    }
   ],
   "source": [
    "# we can get both the index and the value\n",
    "for i, item in enumerate(my_fruit_list):\n",
    "    print(i)\n",
    "    print(item)"
   ]
  },
  {
   "cell_type": "code",
   "execution_count": 75,
   "id": "f3b4219f",
   "metadata": {},
   "outputs": [
    {
     "data": {
      "text/plain": [
       "[(0, 'bannana'),\n",
       " (1, 'apple'),\n",
       " (2, 'persimmon'),\n",
       " (3, 'grapefruit'),\n",
       " (4, 'kiwi')]"
      ]
     },
     "execution_count": 75,
     "metadata": {},
     "output_type": "execute_result"
    }
   ],
   "source": [
    "list(enumerate(my_fruit_list))"
   ]
  },
  {
   "cell_type": "code",
   "execution_count": 81,
   "id": "6b98b162",
   "metadata": {},
   "outputs": [
    {
     "name": "stdout",
     "output_type": "stream",
     "text": [
      "this fruit is a bannana!\n",
      "again?\n",
      "this fruit is a apple!\n"
     ]
    }
   ],
   "source": [
    "# getting picky\n",
    "for fruit in my_fruit_list:\n",
    "    if fruit == 'persimmon':\n",
    "        continue\n",
    "        print('am i here?')\n",
    "    if fruit == 'apple':\n",
    "        pass\n",
    "        print('again?')\n",
    "    if fruit == 'grapefruit':\n",
    "        break\n",
    "    print(f'this fruit is a {fruit}!')"
   ]
  },
  {
   "cell_type": "code",
   "execution_count": null,
   "id": "abab8d8d",
   "metadata": {},
   "outputs": [],
   "source": []
  },
  {
   "cell_type": "code",
   "execution_count": null,
   "id": "214e0300",
   "metadata": {},
   "outputs": [],
   "source": []
  }
 ],
 "metadata": {
  "kernelspec": {
   "display_name": "Python 3 (ipykernel)",
   "language": "python",
   "name": "python3"
  },
  "language_info": {
   "codemirror_mode": {
    "name": "ipython",
    "version": 3
   },
   "file_extension": ".py",
   "mimetype": "text/x-python",
   "name": "python",
   "nbconvert_exporter": "python",
   "pygments_lexer": "ipython3",
   "version": "3.9.13"
  }
 },
 "nbformat": 4,
 "nbformat_minor": 5
}
