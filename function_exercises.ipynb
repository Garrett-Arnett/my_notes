{
 "cells": [
  {
   "cell_type": "code",
   "execution_count": null,
   "id": "098a261e",
   "metadata": {},
   "outputs": [],
   "source": [
    "''' 1. Define a function named is_two. It should accept one input \n",
    "and return True if the passed input is either the number or the \n",
    "string 2, False otherwise.'''"
   ]
  },
  {
   "cell_type": "code",
   "execution_count": 18,
   "id": "d8f26e3c",
   "metadata": {},
   "outputs": [
    {
     "data": {
      "text/plain": [
       "True"
      ]
     },
     "execution_count": 18,
     "metadata": {},
     "output_type": "execute_result"
    }
   ],
   "source": [
    "def is_two(arg):\n",
    "    if arg == 2:\n",
    "        return True\n",
    "    else:\n",
    "        return False\n",
    "is_two(2)"
   ]
  },
  {
   "cell_type": "code",
   "execution_count": 1,
   "id": "7f25a2e0",
   "metadata": {
    "scrolled": true
   },
   "outputs": [],
   "source": [
    "''' 2. Define a function named is_vowel.\n",
    "It should return True if the passed string is a vowel, \n",
    "False otherwise.'''"
   ]
  },
  {
   "cell_type": "code",
   "execution_count": 16,
   "id": "59dd3421",
   "metadata": {},
   "outputs": [
    {
     "data": {
      "text/plain": [
       "True"
      ]
     },
     "execution_count": 16,
     "metadata": {},
     "output_type": "execute_result"
    }
   ],
   "source": [
    "def is_vowel(arg):\n",
    "    vowels = [\"a\",\"e\",\"i\",\"o\",\"u\"]\n",
    "    return arg.lower() in vowels\n",
    "\n",
    "is_vowel(\"u\")"
   ]
  },
  {
   "cell_type": "code",
   "execution_count": null,
   "id": "babb6ff9",
   "metadata": {},
   "outputs": [],
   "source": [
    "'''Define a function named is_consonant. It should return\n",
    "True if the passed string is a consonant, False otherwise.\n",
    "Use your is_vowel function to accomplish this.'''"
   ]
  },
  {
   "cell_type": "code",
   "execution_count": 24,
   "id": "5b1dac9e",
   "metadata": {},
   "outputs": [
    {
     "data": {
      "text/plain": [
       "True"
      ]
     },
     "execution_count": 24,
     "metadata": {},
     "output_type": "execute_result"
    }
   ],
   "source": [
    "def is_consonant(arg):\n",
    "    vowels = [\"a\",\"e\",\"i\",\"o\",\"u\"]\n",
    "    if arg.lower() not in vowels:\n",
    "        return True\n",
    "    else:\n",
    "        return False\n",
    "is_consonant(\"n\")"
   ]
  },
  {
   "cell_type": "code",
   "execution_count": null,
   "id": "135f7c11",
   "metadata": {},
   "outputs": [],
   "source": [
    "''' 4. Define a function that accepts a string that is a word. \n",
    "The function should capitalize the first letter of the word if \n",
    "the word starts with a consonant.'''"
   ]
  },
  {
   "cell_type": "code",
   "execution_count": 36,
   "id": "091c254d",
   "metadata": {},
   "outputs": [
    {
     "data": {
      "text/plain": [
       "'Codeup'"
      ]
     },
     "execution_count": 36,
     "metadata": {},
     "output_type": "execute_result"
    }
   ],
   "source": [
    "def cap_word(arg):\n",
    "    for n in arg[0]:\n",
    "        if is_consonant(n):\n",
    "            return (f\"{arg}\".capitalize())\n",
    "        else:\n",
    "            return arg\n",
    "cap_word(\"codeUp\")"
   ]
  },
  {
   "cell_type": "code",
   "execution_count": null,
   "id": "8d61c633",
   "metadata": {},
   "outputs": [],
   "source": [
    "''' 5. Define a function named calculate_tip. It should accept a \n",
    "tip percentage (a number between 0 and 1) and the bill total, and\n",
    "return the amount to tip.'''"
   ]
  },
  {
   "cell_type": "code",
   "execution_count": 67,
   "id": "a27c2e21",
   "metadata": {},
   "outputs": [
    {
     "data": {
      "text/plain": [
       "25.0"
      ]
     },
     "execution_count": 67,
     "metadata": {},
     "output_type": "execute_result"
    }
   ],
   "source": [
    "def calculate_tip(percent, bill):\n",
    "    tip_amount = percent*bill\n",
    "    return (tip_amount)\n",
    "calculate_tip(.25, 100)"
   ]
  },
  {
   "cell_type": "code",
   "execution_count": null,
   "id": "e06aeeb8",
   "metadata": {},
   "outputs": [],
   "source": [
    "''' 6. Define a function named apply_discount. It should accept \n",
    "a original price, and a discount percentage, and return the \n",
    "price after the discount is applied.'''"
   ]
  },
  {
   "cell_type": "code",
   "execution_count": 74,
   "id": "3fd98f37",
   "metadata": {},
   "outputs": [
    {
     "data": {
      "text/plain": [
       "7.0"
      ]
     },
     "execution_count": 74,
     "metadata": {},
     "output_type": "execute_result"
    }
   ],
   "source": [
    "def apply_discount(discount, price):\n",
    "# discount formatted as 20% = 20\n",
    "    total_discount = price - (price * (discount / 100))\n",
    "    return (total_discount)\n",
    "apply_discount(30, 10)"
   ]
  },
  {
   "cell_type": "code",
   "execution_count": null,
   "id": "a0bcc43b",
   "metadata": {},
   "outputs": [],
   "source": [
    "''' 7. Define a function named handle_commas. It should \n",
    "accept a string that is a number that contains commas in \n",
    "it as input, and return a number as output.'''"
   ]
  },
  {
   "cell_type": "code",
   "execution_count": 75,
   "id": "8e0dfc79",
   "metadata": {},
   "outputs": [
    {
     "data": {
      "text/plain": [
       "10002.0"
      ]
     },
     "execution_count": 75,
     "metadata": {},
     "output_type": "execute_result"
    }
   ],
   "source": [
    "def handle_commas(arg):\n",
    "    return float(arg.replace(',',''))\n",
    "handle_commas(\"1,000,2\")"
   ]
  },
  {
   "cell_type": "code",
   "execution_count": null,
   "id": "ff11409c",
   "metadata": {},
   "outputs": [],
   "source": [
    "''' 8. Define a function named get_letter_grade.\n",
    "It should accept a number and return the letter grade associated\n",
    "with that number (A-F).'''"
   ]
  },
  {
   "cell_type": "code",
   "execution_count": 83,
   "id": "57cab8d6",
   "metadata": {},
   "outputs": [
    {
     "data": {
      "text/plain": [
       "'B'"
      ]
     },
     "execution_count": 83,
     "metadata": {},
     "output_type": "execute_result"
    }
   ],
   "source": [
    "def get_letter_grade(num):\n",
    "    \n",
    "\n",
    "    if num <= 59:\n",
    "        return (\"F\")\n",
    "    elif num > 59 and num <= 69:\n",
    "        return (\"D\")\n",
    "    elif num > 69 and num <= 79:\n",
    "        return (\"C\")\n",
    "    elif num > 79 and num <=89:\n",
    "        return (\"B\")\n",
    "    elif num > 89 and num <=100:\n",
    "        return (\"A\")\n",
    "get_letter_grade(80)"
   ]
  },
  {
   "cell_type": "code",
   "execution_count": null,
   "id": "ece89d25",
   "metadata": {},
   "outputs": [],
   "source": [
    "''' 9. Define a function named remove_vowels that accepts a \n",
    "string and returns a string with all the vowels removed.'''"
   ]
  },
  {
   "cell_type": "code",
   "execution_count": 137,
   "id": "5d439366",
   "metadata": {},
   "outputs": [
    {
     "data": {
      "text/plain": [
       "'mthylchlrsthzlnn'"
      ]
     },
     "execution_count": 137,
     "metadata": {},
     "output_type": "execute_result"
    }
   ],
   "source": [
    "def remove_vowels(arg):\n",
    "    vowels = 'aeiouAEIOU'\n",
    "    for vowel in vowels:\n",
    "        arg = arg.replace(vowel, '')\n",
    "    return arg\n",
    "remove_vowels('methylchloroisothiazolinone')\n",
    "# ^ normally the longest work on a shampoo bottle"
   ]
  },
  {
   "cell_type": "code",
   "execution_count": null,
   "id": "b10723e1",
   "metadata": {},
   "outputs": [],
   "source": [
    "''' 10. Define a function named normalize_name. It should accept a \n",
    "string and return a valid python identifier, that is:\n",
    "anything that is not a valid python identifier should be removed\n",
    "leading and trailing whitespace should be removed\n",
    "everything should be lowercase\n",
    "spaces should be replaced with underscores\n",
    "for example:\n",
    "Name will become name\n",
    "First Name will become first_name\n",
    "% Completed will become completed'''"
   ]
  },
  {
   "cell_type": "code",
   "execution_count": 159,
   "id": "bdec1a64",
   "metadata": {},
   "outputs": [
    {
     "data": {
      "text/plain": [
       "'first_name'"
      ]
     },
     "execution_count": 159,
     "metadata": {},
     "output_type": "execute_result"
    }
   ],
   "source": [
    "def normalize_name(arg):\n",
    "    arg = \"\".join(c for c in arg if c.isalnum() or c == \" \") \n",
    "    for c in arg:\n",
    "            return arg.strip().lower().replace(\" \", \"_\")\n",
    "normalize_name(\"   %First name  %   \")\n",
    "# isalnum is a function that only keeps alphabetical or numerical characters"
   ]
  },
  {
   "cell_type": "code",
   "execution_count": null,
   "id": "01af3222",
   "metadata": {},
   "outputs": [],
   "source": [
    "''' 11. Write a function named cumulative_sum that accepts a list \n",
    "of numbers and returns a list that is the cumulative sum of the \n",
    "numbers in the list.\n",
    "cumulative_sum([1, 1, 1]) returns [1, 2, 3]\n",
    "cumulative_sum([1, 2, 3, 4]) returns [1, 3, 6, 10]'''"
   ]
  },
  {
   "cell_type": "code",
   "execution_count": 145,
   "id": "cf748305",
   "metadata": {},
   "outputs": [
    {
     "data": {
      "text/plain": [
       "[1, 3, 6, 10, 15, 21, 28, 36, 45, 55]"
      ]
     },
     "execution_count": 145,
     "metadata": {},
     "output_type": "execute_result"
    }
   ],
   "source": [
    "def cumulative_sum(arg):\n",
    "    total = 0\n",
    "    for number in arg:\n",
    "        total += number\n",
    "        yield total\n",
    "list(cumulative_sum([1,2,3,4,5,6,7,8,9,10]))"
   ]
  },
  {
   "cell_type": "markdown",
   "id": "85674d0c",
   "metadata": {},
   "source": [
    "# BONUS"
   ]
  },
  {
   "cell_type": "code",
   "execution_count": null,
   "id": "e84eae6b",
   "metadata": {},
   "outputs": [],
   "source": [
    "''' 1. Create a function named twelveto24. \n",
    "It should accept a string in the format 10:45am or 4:30pm and \n",
    "return a string that is the representation of the time in a 24-hour \n",
    "format. Bonus write a function that does the opposite.'''"
   ]
  },
  {
   "cell_type": "code",
   "execution_count": null,
   "id": "3fcfcc63",
   "metadata": {},
   "outputs": [],
   "source": [
    "def twelveto24(arg)\n"
   ]
  },
  {
   "cell_type": "code",
   "execution_count": null,
   "id": "2eaad127",
   "metadata": {},
   "outputs": [],
   "source": [
    "''' 2. Create a function named col_index. It should accept a\n",
    "spreadsheet column name, and return the index number of the column.\n",
    "col_index('A') returns 1\n",
    "col_index('B') returns 2\n",
    "col_index('AA') returns 27'''"
   ]
  },
  {
   "cell_type": "code",
   "execution_count": null,
   "id": "d7e11cc7",
   "metadata": {},
   "outputs": [],
   "source": [
    "def col_index\n"
   ]
  }
 ],
 "metadata": {
  "kernelspec": {
   "display_name": "Python 3 (ipykernel)",
   "language": "python",
   "name": "python3"
  },
  "language_info": {
   "codemirror_mode": {
    "name": "ipython",
    "version": 3
   },
   "file_extension": ".py",
   "mimetype": "text/x-python",
   "name": "python",
   "nbconvert_exporter": "python",
   "pygments_lexer": "ipython3",
   "version": "3.9.13"
  }
 },
 "nbformat": 4,
 "nbformat_minor": 5
}
