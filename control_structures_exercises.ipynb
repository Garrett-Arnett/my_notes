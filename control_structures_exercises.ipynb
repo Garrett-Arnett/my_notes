{
 "cells": [
  {
   "cell_type": "code",
   "execution_count": null,
   "id": "1bfa6199",
   "metadata": {},
   "outputs": [],
   "source": [
    "''' 1. Conditional Basics\n",
    "\n",
    "a. Prompt the user for a day of the week, print out whether the day is Monday or not\n",
    "\n",
    "b. Prompt the user for a day of the week, print out whether the day is a weekday or a weekend\n",
    "\n",
    "c. Create variables and make up values for\n",
    "\n",
    "    The number of hours worked in one week\n",
    "    The hourly rate\n",
    "    How much the week's paycheck will be\n",
    "    \n",
    "Write the python code that calculates the weekly paycheck. You get paid time and a half if you work more than 40 hours.'''"
   ]
  },
  {
   "cell_type": "code",
   "execution_count": 2,
   "id": "65545688",
   "metadata": {},
   "outputs": [
    {
     "name": "stdout",
     "output_type": "stream",
     "text": [
      "day_of_the_weekMonday\n",
      " It is monday\n"
     ]
    }
   ],
   "source": [
    "# a.\n",
    "day = input('day_of_the_week')\n",
    "if day.startswith('Mon'):\n",
    "    print(' It is monday')\n",
    "else:\n",
    "    print(' It is nor Monday')\n"
   ]
  },
  {
   "cell_type": "code",
   "execution_count": 3,
   "id": "a9a19074",
   "metadata": {},
   "outputs": [
    {
     "name": "stdout",
     "output_type": "stream",
     "text": [
      "day_of_the_weekSaturday\n",
      "Weekend\n"
     ]
    }
   ],
   "source": [
    "# b.\n",
    "day = input('day_of_the_week')\n",
    "if day.startswith('S'):\n",
    "    print('Weekend')\n",
    "else:\n",
    "    print('Weekday')"
   ]
  },
  {
   "cell_type": "code",
   "execution_count": 4,
   "id": "38cab8a3",
   "metadata": {},
   "outputs": [
    {
     "name": "stdout",
     "output_type": "stream",
     "text": [
      "hours_worked? 20\n",
      "hourly_rate? 20\n",
      "400\n"
     ]
    }
   ],
   "source": [
    "# c.\n",
    "hw = input('hours_worked? ')\n",
    "hw = int(hw)\n",
    "hr = input('hourly_rate? ')\n",
    "hr = int(hr)\n",
    "weekly_pay = hw * hr\n",
    "if hw > 40:\n",
    "     print(((hw - 40) * (hr * 1.5)) + (40 * hr))\n",
    "else:\n",
    "    print(weekly_pay)"
   ]
  },
  {
   "cell_type": "code",
   "execution_count": null,
   "id": "b2a4d3d6",
   "metadata": {},
   "outputs": [],
   "source": [
    "''' 2.Loop Basics '''"
   ]
  },
  {
   "cell_type": "code",
   "execution_count": 6,
   "id": "a8ab2ada",
   "metadata": {},
   "outputs": [
    {
     "name": "stdout",
     "output_type": "stream",
     "text": [
      "5\n",
      "6\n",
      "7\n",
      "8\n",
      "9\n",
      "10\n",
      "11\n",
      "12\n",
      "13\n",
      "14\n",
      "15\n"
     ]
    }
   ],
   "source": [
    "### a\n",
    "#i. Create an integer variable i with a value of 5. \n",
    "# Create a while loop that runs so long as i is less \n",
    "# than or equal to 15. Each loop iteration, output the \n",
    "# current value of i, then increment i by one.\n",
    "\n",
    "i = 5\n",
    "while i <= 15:\n",
    "    print(i)\n",
    "    i += 1"
   ]
  },
  {
   "cell_type": "code",
   "execution_count": 7,
   "id": "f33f4e13",
   "metadata": {},
   "outputs": [
    {
     "name": "stdout",
     "output_type": "stream",
     "text": [
      "0\n",
      "2\n",
      "4\n",
      "6\n",
      "8\n",
      "10\n",
      "12\n",
      "14\n",
      "16\n",
      "18\n",
      "20\n",
      "22\n",
      "24\n",
      "26\n",
      "28\n",
      "30\n",
      "32\n",
      "34\n",
      "36\n",
      "38\n",
      "40\n",
      "42\n",
      "44\n",
      "46\n",
      "48\n",
      "50\n",
      "52\n",
      "54\n",
      "56\n",
      "58\n",
      "60\n",
      "62\n",
      "64\n",
      "66\n",
      "68\n",
      "70\n",
      "72\n",
      "74\n",
      "76\n",
      "78\n",
      "80\n",
      "82\n",
      "84\n",
      "86\n",
      "88\n",
      "90\n",
      "92\n",
      "94\n",
      "96\n",
      "98\n",
      "100\n"
     ]
    }
   ],
   "source": [
    "#i. Create a while loop that will count by 2's starting with\n",
    "#   0 and ending at 100. Follow each number with a new line.\n",
    "\n",
    "i = 0\n",
    "while i <= 100:\n",
    "    print(f\"{i}\")\n",
    "    i += 2"
   ]
  },
  {
   "cell_type": "code",
   "execution_count": 8,
   "id": "06912a40",
   "metadata": {},
   "outputs": [
    {
     "name": "stdout",
     "output_type": "stream",
     "text": [
      "100\n",
      "95\n",
      "90\n",
      "85\n",
      "80\n",
      "75\n",
      "70\n",
      "65\n",
      "60\n",
      "55\n",
      "50\n",
      "45\n",
      "40\n",
      "35\n",
      "30\n",
      "25\n",
      "20\n",
      "15\n",
      "10\n",
      "5\n",
      "0\n",
      "-5\n",
      "-10\n"
     ]
    }
   ],
   "source": [
    "#ii. Alter your loop to count backwards by 5's from 100 to -10\n",
    "\n",
    "i = 100\n",
    "while i >= -10:\n",
    "    print(f\"{i}\")\n",
    "    i -= 5"
   ]
  },
  {
   "cell_type": "code",
   "execution_count": 9,
   "id": "95b9f28c",
   "metadata": {},
   "outputs": [
    {
     "name": "stdout",
     "output_type": "stream",
     "text": [
      "2\n",
      "4\n",
      "16\n",
      "256\n",
      "65536\n"
     ]
    }
   ],
   "source": [
    "#iii. Create a while loop that starts at 2, and displays the number \n",
    "# squared on each line while the number is less than 1,000,000.\n",
    "# Output should equal:\n",
    "\n",
    "i = 2\n",
    "while i <= 1000000:\n",
    "    print(f\"{i}\")\n",
    "    i **= 2"
   ]
  },
  {
   "cell_type": "code",
   "execution_count": 10,
   "id": "6c73893f",
   "metadata": {},
   "outputs": [
    {
     "name": "stdout",
     "output_type": "stream",
     "text": [
      "100\n",
      "95\n",
      "90\n",
      "85\n",
      "80\n",
      "75\n",
      "70\n",
      "65\n",
      "60\n",
      "55\n",
      "50\n",
      "45\n",
      "40\n",
      "35\n",
      "30\n",
      "25\n",
      "20\n",
      "15\n",
      "10\n",
      "5\n"
     ]
    }
   ],
   "source": [
    "# iv. Write a loop that uses print to create the output shown below.\n",
    "\n",
    "i = 100\n",
    "while i > 0:\n",
    "    print(f\"{i}\")\n",
    "    i -= 5\n"
   ]
  },
  {
   "cell_type": "code",
   "execution_count": 11,
   "id": "73099804",
   "metadata": {},
   "outputs": [],
   "source": [
    "### b. For Loops"
   ]
  },
  {
   "cell_type": "code",
   "execution_count": 12,
   "id": "9a864ce8",
   "metadata": {},
   "outputs": [],
   "source": [
    "# i. Write some code that prompts the user for a number, then shows\n",
    "#    a multiplication table up through 10 for that number.\n",
    "\n"
   ]
  },
  {
   "cell_type": "code",
   "execution_count": 13,
   "id": "38b30c0a",
   "metadata": {},
   "outputs": [
    {
     "name": "stdout",
     "output_type": "stream",
     "text": [
      "Number? 3\n",
      "3 x 1 = 3\n",
      "3 x 2 = 6\n",
      "3 x 3 = 9\n",
      "3 x 4 = 12\n",
      "3 x 5 = 15\n",
      "3 x 6 = 18\n",
      "3 x 7 = 21\n",
      "3 x 8 = 24\n",
      "3 x 9 = 27\n",
      "3 x 10 = 30\n"
     ]
    }
   ],
   "source": [
    "num = input(\"Number? \")\n",
    "num = int(num)\n",
    "for i in range(1, 11):\n",
    "    print(num, 'x', i, '=', num*i)"
   ]
  },
  {
   "cell_type": "code",
   "execution_count": 14,
   "id": "12ca76b7",
   "metadata": {},
   "outputs": [
    {
     "name": "stdout",
     "output_type": "stream",
     "text": [
      "1\n",
      "22\n",
      "333\n",
      "4444\n",
      "55555\n",
      "666666\n",
      "7777777\n",
      "88888888\n",
      "999999999\n"
     ]
    }
   ],
   "source": [
    "#ii Create a for loop that uses print to create the \n",
    "#.  output shown below.\n",
    "\n",
    "for i in range(1, 10):\n",
    "    print(str(i)*i)"
   ]
  },
  {
   "cell_type": "code",
   "execution_count": 15,
   "id": "728d1995",
   "metadata": {},
   "outputs": [],
   "source": [
    "### C. break and continue"
   ]
  },
  {
   "cell_type": "code",
   "execution_count": 16,
   "id": "77670a30",
   "metadata": {},
   "outputs": [
    {
     "name": "stdout",
     "output_type": "stream",
     "text": [
      "Enter a positive integer: 8\n",
      "8\n",
      "7\n",
      "6\n",
      "5\n",
      "4\n",
      "3\n",
      "2\n",
      "1\n"
     ]
    }
   ],
   "source": [
    "# i. Write a program that prompts the user for a positive integer.\n",
    "#    Next write a loop that prints out the numbers from the number \n",
    "#    the user entered down to 1.\n",
    "\n",
    "\n",
    "num = int(input(\"Enter a positive integer: \"))\n",
    "\n",
    "if num <= 0:\n",
    "    print(\"Invalid\")\n",
    "else:\n",
    "    for i in range(num, 0, -1):\n",
    "        print(i)\n"
   ]
  },
  {
   "cell_type": "code",
   "execution_count": 29,
   "id": "f87ec9cd",
   "metadata": {},
   "outputs": [
    {
     "name": "stdout",
     "output_type": "stream",
     "text": [
      "Enter a positive integer: 6\n",
      "0\n",
      "1\n",
      "2\n",
      "3\n",
      "4\n",
      "5\n",
      "6\n"
     ]
    }
   ],
   "source": [
    "# ii. The input function can be used to prompt for input and use \n",
    "#     that input in your python code. Prompt the user to enter a\n",
    "#     positive number and write a loop that counts from 0 to that \n",
    "#     number. \n",
    "\n",
    "\n",
    "num = int(input(\"Enter a positive integer: \"))\n",
    "\n",
    "if num <= 0:\n",
    "    print(\"Invalid\")\n",
    "else:\n",
    "    for i in range(0, num + 1, +1):\n",
    "        print(i)"
   ]
  },
  {
   "cell_type": "code",
   "execution_count": 23,
   "id": "e446ce56",
   "metadata": {},
   "outputs": [
    {
     "name": "stdout",
     "output_type": "stream",
     "text": [
      "please enter an odd number between 1 and 50. 21\n",
      "Here is an odd number: 1\n",
      "Here is an odd number: 3\n",
      "Here is an odd number: 5\n",
      "Here is an odd number: 7\n",
      "Here is an odd number: 9\n",
      "Here is an odd number: 11\n",
      "Here is an odd number: 13\n",
      "Here is an odd number: 15\n",
      "Here is an odd number: 17\n",
      "Here is an odd number: 19\n",
      "Yikes! Skipping number: 21\n",
      "Here is an odd number: 23\n",
      "Here is an odd number: 25\n",
      "Here is an odd number: 27\n",
      "Here is an odd number: 29\n",
      "Here is an odd number: 31\n",
      "Here is an odd number: 33\n",
      "Here is an odd number: 35\n",
      "Here is an odd number: 37\n",
      "Here is an odd number: 39\n",
      "Here is an odd number: 41\n",
      "Here is an odd number: 43\n",
      "Here is an odd number: 45\n",
      "Here is an odd number: 47\n",
      "Here is an odd number: 49\n"
     ]
    }
   ],
   "source": [
    "# iii. Prompt the user for an odd number between 1 and 50. \n",
    "#      Use a loop and a break statement to continue prompting the user \n",
    "#      if they enter invalid input. (Hint: use the isdigit method on \n",
    "#      strings to determine this). Use a loop and the continue statement \n",
    "#      to output all the odd numbers between 1 and 50, except for the \n",
    "#      number the user entered.\n",
    "\n",
    "\n",
    "\n",
    "while True:\n",
    "    odd_input = input('please enter an odd number between 1 and 50. ')\n",
    "    if odd_input.isdigit():\n",
    "        odd_input = int(odd_input)\n",
    "        if odd_input % 2 ==0:\n",
    "            continue\n",
    "        break\n",
    "        \n",
    "i = 1\n",
    "while i <= 50:\n",
    "    if i == odd_input:\n",
    "        print(f'Yikes! Skipping number: {i}')\n",
    "        i += 2\n",
    "        continue\n",
    "    print(f\"Here is an odd number: {i}\")\n",
    "    i += 2\n"
   ]
  },
  {
   "cell_type": "code",
   "execution_count": null,
   "id": "4a90db9b",
   "metadata": {},
   "outputs": [],
   "source": [
    "''' 3. Fizzbuzz\n",
    "\n",
    "One of the most common interview questions for entry-level\n",
    "programmers is the FizzBuzz test. Developed by Imran Ghory, \n",
    "the test is designed to test basic looping and conditional \n",
    "logic skills.\n",
    "\n",
    "Write a program that prints the numbers from 1 to 100.\n",
    "For multiples of three print \"Fizz\" instead of the number\n",
    "For the multiples of five print \"Buzz\".\n",
    "For numbers which are multiples of both three and five print \n",
    "\"FizzBuzz\".'''"
   ]
  },
  {
   "cell_type": "code",
   "execution_count": 28,
   "id": "8b073aa1",
   "metadata": {},
   "outputs": [
    {
     "name": "stdout",
     "output_type": "stream",
     "text": [
      "1\n",
      "2\n",
      "Fizz\n",
      "4\n",
      "Buzz\n",
      "Fizz\n",
      "7\n",
      "8\n",
      "Fizz\n",
      "Buzz\n",
      "11\n",
      "Fizz\n",
      "13\n",
      "14\n",
      "FizzBuzz\n",
      "16\n",
      "17\n",
      "Fizz\n",
      "19\n",
      "Buzz\n",
      "Fizz\n",
      "22\n",
      "23\n",
      "Fizz\n",
      "Buzz\n",
      "26\n",
      "Fizz\n",
      "28\n",
      "29\n",
      "FizzBuzz\n",
      "31\n",
      "32\n",
      "Fizz\n",
      "34\n",
      "Buzz\n",
      "Fizz\n",
      "37\n",
      "38\n",
      "Fizz\n",
      "Buzz\n",
      "41\n",
      "Fizz\n",
      "43\n",
      "44\n",
      "FizzBuzz\n",
      "46\n",
      "47\n",
      "Fizz\n",
      "49\n",
      "Buzz\n",
      "Fizz\n",
      "52\n",
      "53\n",
      "Fizz\n",
      "Buzz\n",
      "56\n",
      "Fizz\n",
      "58\n",
      "59\n",
      "FizzBuzz\n",
      "61\n",
      "62\n",
      "Fizz\n",
      "64\n",
      "Buzz\n",
      "Fizz\n",
      "67\n",
      "68\n",
      "Fizz\n",
      "Buzz\n",
      "71\n",
      "Fizz\n",
      "73\n",
      "74\n",
      "FizzBuzz\n",
      "76\n",
      "77\n",
      "Fizz\n",
      "79\n",
      "Buzz\n",
      "Fizz\n",
      "82\n",
      "83\n",
      "Fizz\n",
      "Buzz\n",
      "86\n",
      "Fizz\n",
      "88\n",
      "89\n",
      "FizzBuzz\n",
      "91\n",
      "92\n",
      "Fizz\n",
      "94\n",
      "Buzz\n",
      "Fizz\n",
      "97\n",
      "98\n",
      "Fizz\n",
      "Buzz\n"
     ]
    }
   ],
   "source": [
    "for i in range(1, 101):\n",
    "    if i % 3 == 0 and i % 5 == 0:\n",
    "        print(\"FizzBuzz\")\n",
    "    elif i % 3 == 0:\n",
    "        print(\"Fizz\")\n",
    "    elif i % 5 == 0:\n",
    "        print(\"Buzz\")\n",
    "    else:\n",
    "        print(i)"
   ]
  },
  {
   "cell_type": "code",
   "execution_count": null,
   "id": "4eed8eeb",
   "metadata": {},
   "outputs": [],
   "source": [
    "''' 4. Display a table of powers.\n",
    "\n",
    "Prompt the user to enter an integer\n",
    "Display a table of squares and cubes from 1 to the value entered\n",
    "Ask if the user wants to continue\n",
    "Assume that the user will enter valid data\n",
    "Only continue if the user agrees to\n",
    "\n",
    "Bonus: Research python's format string specifiers to align the table'''"
   ]
  },
  {
   "cell_type": "code",
   "execution_count": 46,
   "id": "3b36642a",
   "metadata": {},
   "outputs": [
    {
     "name": "stdout",
     "output_type": "stream",
     "text": [
      "What number would you like to go up to? 5\n",
      "number | squared | cubed\n",
      "-------|---------|------\n",
      "     1 |       1 |     1\n",
      "     2 |       4 |     8\n",
      "     3 |       9 |    27\n",
      "     4 |      16 |    64\n",
      "     5 |      25 |   125\n"
     ]
    }
   ],
   "source": [
    "n_integer = int(input('What number would you like to go up to? '))\n",
    "\n",
    "print(\"number | squared | cubed\")\n",
    "print(\"-------|---------|------\")\n",
    "for i in range(1, n_integer + 1):\n",
    "    print(\"%6i | %7i | %5i\" % (i, i**2, i**3))\n",
    "    \n",
    "# %6i meaning. pad with 6 spaces. used to square the table \n",
    "# %.6 would pad with zeros instead of blank spaces\n",
    "    "
   ]
  },
  {
   "cell_type": "code",
   "execution_count": null,
   "id": "bdb048a2",
   "metadata": {},
   "outputs": [],
   "source": [
    "''' 5. Convert given number grades into letter grades.\n",
    "\n",
    "Prompt the user for a numerical grade from 0 to 100\n",
    "Display the corresponding letter grade\n",
    "Prompt the user to continue\n",
    "Assume that the user will enter valid integers for the grades\n",
    "The application should only continue if the user agrees to\n",
    "Grade Ranges:\n",
    "\n",
    "A : 100 - 88\n",
    "B : 87 - 80\n",
    "C : 79 - 67\n",
    "D : 66 - 60\n",
    "F : 59 - 0'''"
   ]
  },
  {
   "cell_type": "code",
   "execution_count": 57,
   "id": "514169b0",
   "metadata": {},
   "outputs": [
    {
     "name": "stdout",
     "output_type": "stream",
     "text": [
      "Enter a in integer from 0 to 100: 88\n",
      "A\n"
     ]
    }
   ],
   "source": [
    "num = int(input(\"Enter a in integer from 0 to 100: \"))\n",
    "if num <= 59:\n",
    "    print(\"F\")\n",
    "elif num > 59 and num <= 66:\n",
    "    print(\"D\")\n",
    "elif num > 66 and num <= 79:\n",
    "    print(\"C\")\n",
    "elif num > 79 and num <=87:\n",
    "    print(\"B\")\n",
    "elif num > 87 and num <=100:\n",
    "    print(\"A\")"
   ]
  },
  {
   "cell_type": "code",
   "execution_count": null,
   "id": "030002e5",
   "metadata": {},
   "outputs": [],
   "source": [
    "''' 6. Create a list of dictionaries where each dictionary \n",
    "represents a book that you have read. Each dictionary in the list \n",
    "should have the keys title, author, and genre. Loop through the \n",
    "list and print out information about each book.\n",
    "\n",
    "a. Prompt the user to enter a genre, then loop through your books\n",
    "list and print out the titles of all the books in that genre.'''"
   ]
  },
  {
   "cell_type": "code",
   "execution_count": 71,
   "id": "a9fd4fe6",
   "metadata": {},
   "outputs": [
    {
     "name": "stdout",
     "output_type": "stream",
     "text": [
      "---\n",
      "title: The Great Gatsby\n",
      "author: Scorr Fitzgerald\n",
      "genre: fiction\n",
      "---\n",
      "title: Moby Dick\n",
      "author: Herman Melville\n",
      "genre: fiction\n",
      "---\n",
      "title: Weapons of Mass Destruction\n",
      "author: Cathy O'Neil\n",
      "genre: non-fiction\n",
      "---\n",
      "title: Alexander Hamilton\n",
      "author: Ron Chernow\n",
      "genre: biography\n",
      "---\n",
      "title: The Hunger Games\n",
      "author: Suzanne Collins\n",
      "genre: fiction\n"
     ]
    }
   ],
   "source": [
    "book = [ {'title': 'The Great Gatsby','author': 'Scorr Fitzgerald', 'genre': 'fiction'}, \n",
    "         {'title': 'Moby Dick','author': 'Scorr Fitzgerald', 'genre': 'fiction'}, \n",
    "         {'title': 'Weapons of Mass Destruction','author': 'Cathy O\\'Neil', 'genre': 'non-fiction'}, \n",
    "         {'title': 'Alexander Hamilton','author': 'Ron Chernow', 'genre': 'biography'}, \n",
    "         {'title': 'The Hunger Games','Suzanne Collins': 'Scorr Fitzgerald', 'genre': 'fiction'} ]\n",
    "for book in books:\n",
    "    print(\"---\")\n",
    "    print(\"title: {}\".format(book[\"title\"]))\n",
    "    print(\"author: {}\".format(book[\"author\"]))\n",
    "    print(\"genre: {}\".format(book[\"genre\"]))"
   ]
  },
  {
   "cell_type": "code",
   "execution_count": 80,
   "id": "f972a384",
   "metadata": {},
   "outputs": [
    {
     "name": "stdout",
     "output_type": "stream",
     "text": [
      "Enter a genre: fiction\n",
      "Books in the genre 'fiction':\n",
      "title: The Great Gatsby\n",
      "title: Moby Dick\n",
      "title: The Hunger Games\n"
     ]
    }
   ],
   "source": [
    "# a. Prompt the user to enter a genre, then loop through your books\n",
    "#    list and print out the titles of all the books in that genre.\n",
    "book =  [ {'title': 'The Great Gatsby','author': 'Scorr Fitzgerald', 'genre': 'fiction'}, \n",
    "         {'title': 'Moby Dick','author': 'Scorr Fitzgerald', 'genre': 'fiction'}, \n",
    "         {'title': 'Weapons of Mass Destruction','author': 'Cathy O\\'Neil', 'genre': 'non-fiction'}, \n",
    "         {'title': 'Alexander Hamilton','author': 'Ron Chernow', 'genre': 'biography'}, \n",
    "         {'title': 'The Hunger Games','Suzanne Collins': 'Scorr Fitzgerald', 'genre': 'fiction'} ]\n",
    "    \n",
    "genre = input(\"Enter a genre: \")\n",
    "\n",
    "print(\"Books in the genre '%s':\" % genre)\n",
    "for book in books:\n",
    "    if book[\"genre\"] == genre:\n",
    "        print(\"title: {}\".format(book[\"title\"]))"
   ]
  }
 ],
 "metadata": {
  "kernelspec": {
   "display_name": "Python 3 (ipykernel)",
   "language": "python",
   "name": "python3"
  },
  "language_info": {
   "codemirror_mode": {
    "name": "ipython",
    "version": 3
   },
   "file_extension": ".py",
   "mimetype": "text/x-python",
   "name": "python",
   "nbconvert_exporter": "python",
   "pygments_lexer": "ipython3",
   "version": "3.9.13"
  }
 },
 "nbformat": 4,
 "nbformat_minor": 5
}
