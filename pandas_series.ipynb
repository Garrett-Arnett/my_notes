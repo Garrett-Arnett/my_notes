{
 "cells": [
  {
   "cell_type": "code",
   "execution_count": 70,
   "id": "68c949e2",
   "metadata": {},
   "outputs": [],
   "source": [
    "import pandas as pd\n",
    "import numpy as np\n",
    "from pydataset import data"
   ]
  },
  {
   "cell_type": "code",
   "execution_count": 2,
   "id": "fc890f43",
   "metadata": {},
   "outputs": [
    {
     "data": {
      "text/plain": [
       "' Make a file named pandas_series.py or pandas_series.ipynb for the following exercises.\\n\\nUse pandas to create a Series named fruits from the following list:\\n\\n[\"kiwi\", \"mango\", \"strawberry\", \"pineapple\", \"gala apple\", \"honeycrisp apple\", \"tomato\", \"watermelon\", \"honeydew\", \"kiwi\", \"kiwi\", \"kiwi\", \"mango\", \"blueberry\", \"blackberry\", \"gooseberry\", \"papaya\"]\\n\\nUse Series attributes and methods to explore your fruits Series.'"
      ]
     },
     "execution_count": 2,
     "metadata": {},
     "output_type": "execute_result"
    }
   ],
   "source": [
    "''' Make a file named pandas_series.py or pandas_series.ipynb for the following exercises.\n",
    "\n",
    "Use pandas to create a Series named fruits from the following list:\n",
    "\n",
    "[\"kiwi\", \"mango\", \"strawberry\", \"pineapple\", \"gala apple\", \"honeycrisp apple\", \"tomato\", \"watermelon\", \"honeydew\", \"kiwi\", \"kiwi\", \"kiwi\", \"mango\", \"blueberry\", \"blackberry\", \"gooseberry\", \"papaya\"]\n",
    "\n",
    "Use Series attributes and methods to explore your fruits Series.'''"
   ]
  },
  {
   "cell_type": "code",
   "execution_count": 71,
   "id": "34975f5a",
   "metadata": {},
   "outputs": [],
   "source": [
    "fruits = [\"kiwi\", \"mango\", \"strawberry\", \"pineapple\", \"gala apple\", \"honeycrisp apple\", \"tomato\", \"watermelon\", \"honeydew\", \"kiwi\", \"kiwi\", \"kiwi\", \"mango\", \"blueberry\", \"blackberry\", \"gooseberry\", \"papaya\"]"
   ]
  },
  {
   "cell_type": "code",
   "execution_count": 4,
   "id": "d2705f8c",
   "metadata": {},
   "outputs": [
    {
     "data": {
      "text/plain": [
       "0                 kiwi\n",
       "1                mango\n",
       "2           strawberry\n",
       "3            pineapple\n",
       "4           gala apple\n",
       "5     honeycrisp apple\n",
       "6               tomato\n",
       "7           watermelon\n",
       "8             honeydew\n",
       "9                 kiwi\n",
       "10                kiwi\n",
       "11                kiwi\n",
       "12               mango\n",
       "13           blueberry\n",
       "14          blackberry\n",
       "15          gooseberry\n",
       "16              papaya\n",
       "dtype: object"
      ]
     },
     "execution_count": 4,
     "metadata": {},
     "output_type": "execute_result"
    }
   ],
   "source": [
    "fruits_series = pd.Series(fru\n",
    "                          its)\n",
    "fruits_series"
   ]
  },
  {
   "cell_type": "code",
   "execution_count": 5,
   "id": "ab665bda",
   "metadata": {},
   "outputs": [],
   "source": [
    "# 1. Determine the number of elements in fruits."
   ]
  },
  {
   "cell_type": "code",
   "execution_count": 6,
   "id": "79ab52cc",
   "metadata": {},
   "outputs": [
    {
     "data": {
      "text/plain": [
       "17"
      ]
     },
     "execution_count": 6,
     "metadata": {},
     "output_type": "execute_result"
    }
   ],
   "source": [
    "fruits_series.size"
   ]
  },
  {
   "cell_type": "code",
   "execution_count": 7,
   "id": "a70aeb91",
   "metadata": {},
   "outputs": [],
   "source": [
    "# 2. Output only the index from fruits."
   ]
  },
  {
   "cell_type": "code",
   "execution_count": 8,
   "id": "1730cc82",
   "metadata": {},
   "outputs": [
    {
     "data": {
      "text/plain": [
       "RangeIndex(start=0, stop=17, step=1)"
      ]
     },
     "execution_count": 8,
     "metadata": {},
     "output_type": "execute_result"
    }
   ],
   "source": [
    "fruits_series.index"
   ]
  },
  {
   "cell_type": "code",
   "execution_count": 9,
   "id": "8256f1e0",
   "metadata": {},
   "outputs": [],
   "source": [
    "# 3. Output only the values from fruits."
   ]
  },
  {
   "cell_type": "code",
   "execution_count": 10,
   "id": "eeabaf0a",
   "metadata": {},
   "outputs": [
    {
     "data": {
      "text/plain": [
       "array(['kiwi', 'mango', 'strawberry', 'pineapple', 'gala apple',\n",
       "       'honeycrisp apple', 'tomato', 'watermelon', 'honeydew', 'kiwi',\n",
       "       'kiwi', 'kiwi', 'mango', 'blueberry', 'blackberry', 'gooseberry',\n",
       "       'papaya'], dtype=object)"
      ]
     },
     "execution_count": 10,
     "metadata": {},
     "output_type": "execute_result"
    }
   ],
   "source": [
    "fruits_series.values"
   ]
  },
  {
   "cell_type": "code",
   "execution_count": 11,
   "id": "548c763b",
   "metadata": {},
   "outputs": [],
   "source": [
    "# 4. Confirm the data type of the values in fruits."
   ]
  },
  {
   "cell_type": "code",
   "execution_count": 12,
   "id": "a61cf476",
   "metadata": {},
   "outputs": [
    {
     "data": {
      "text/plain": [
       "dtype('O')"
      ]
     },
     "execution_count": 12,
     "metadata": {},
     "output_type": "execute_result"
    }
   ],
   "source": [
    "fruits_series.dtype"
   ]
  },
  {
   "cell_type": "code",
   "execution_count": 13,
   "id": "ad6df166",
   "metadata": {},
   "outputs": [],
   "source": [
    "# 5. Output only the first five values from fruits. \n",
    "# Output the last three values. \n",
    "# Output two random values from fruits."
   ]
  },
  {
   "cell_type": "code",
   "execution_count": 14,
   "id": "422220da",
   "metadata": {},
   "outputs": [
    {
     "name": "stdout",
     "output_type": "stream",
     "text": [
      "0          kiwi\n",
      "1         mango\n",
      "2    strawberry\n",
      "3     pineapple\n",
      "4    gala apple\n",
      "dtype: object\n",
      "---------------------- \n",
      "15    gooseberry\n",
      "16        papaya\n",
      "dtype: object\n",
      "---------------------- \n",
      "6        tomato\n",
      "2    strawberry\n",
      "dtype: object\n"
     ]
    }
   ],
   "source": [
    "print(fruits_series.head(5))\n",
    "print(\"---------------------- \")\n",
    "print(fruits_series.tail(2))\n",
    "print(\"---------------------- \")\n",
    "print(fruits_series.sample(2))"
   ]
  },
  {
   "cell_type": "code",
   "execution_count": 15,
   "id": "02a4726a",
   "metadata": {},
   "outputs": [],
   "source": [
    "# 6. Run the .describe() on fruits to see what information\n",
    "# it returns when called on a Series with string values."
   ]
  },
  {
   "cell_type": "code",
   "execution_count": 16,
   "id": "4e6badc2",
   "metadata": {},
   "outputs": [
    {
     "data": {
      "text/plain": [
       "count       17\n",
       "unique      13\n",
       "top       kiwi\n",
       "freq         4\n",
       "dtype: object"
      ]
     },
     "execution_count": 16,
     "metadata": {},
     "output_type": "execute_result"
    }
   ],
   "source": [
    "fruits_series.describe()"
   ]
  },
  {
   "cell_type": "code",
   "execution_count": 17,
   "id": "2e13279c",
   "metadata": {},
   "outputs": [],
   "source": [
    "# 7. Run the code necessary to produce only the \n",
    "# unique string values from fruits."
   ]
  },
  {
   "cell_type": "code",
   "execution_count": 18,
   "id": "cdfb60a8",
   "metadata": {},
   "outputs": [
    {
     "data": {
      "text/plain": [
       "array(['kiwi', 'mango', 'strawberry', 'pineapple', 'gala apple',\n",
       "       'honeycrisp apple', 'tomato', 'watermelon', 'honeydew',\n",
       "       'blueberry', 'blackberry', 'gooseberry', 'papaya'], dtype=object)"
      ]
     },
     "execution_count": 18,
     "metadata": {},
     "output_type": "execute_result"
    }
   ],
   "source": [
    "fruits_series.unique()"
   ]
  },
  {
   "cell_type": "code",
   "execution_count": 19,
   "id": "b82c1784",
   "metadata": {},
   "outputs": [],
   "source": [
    "# 8. Determine how many times each unique string value occurs in fruits."
   ]
  },
  {
   "cell_type": "code",
   "execution_count": 20,
   "id": "f434829d",
   "metadata": {},
   "outputs": [
    {
     "data": {
      "text/plain": [
       "13"
      ]
     },
     "execution_count": 20,
     "metadata": {},
     "output_type": "execute_result"
    }
   ],
   "source": [
    "fruits_series.nunique()"
   ]
  },
  {
   "cell_type": "code",
   "execution_count": 21,
   "id": "5c664b65",
   "metadata": {},
   "outputs": [],
   "source": [
    "# 9. Determine the string value that occurs most frequently in fruits."
   ]
  },
  {
   "cell_type": "code",
   "execution_count": 22,
   "id": "40a22931",
   "metadata": {},
   "outputs": [
    {
     "data": {
      "text/plain": [
       "kiwi    4\n",
       "dtype: int64"
      ]
     },
     "execution_count": 22,
     "metadata": {},
     "output_type": "execute_result"
    }
   ],
   "source": [
    "fruits_series.value_counts()[:1]\n"
   ]
  },
  {
   "cell_type": "code",
   "execution_count": 23,
   "id": "229248c6",
   "metadata": {},
   "outputs": [],
   "source": [
    "# 10. Determine the string value that occurs least frequently in fruits."
   ]
  },
  {
   "cell_type": "code",
   "execution_count": 24,
   "id": "3dd7d155",
   "metadata": {},
   "outputs": [
    {
     "data": {
      "text/plain": [
       "strawberry          1\n",
       "pineapple           1\n",
       "gala apple          1\n",
       "honeycrisp apple    1\n",
       "tomato              1\n",
       "watermelon          1\n",
       "honeydew            1\n",
       "blueberry           1\n",
       "blackberry          1\n",
       "gooseberry          1\n",
       "papaya              1\n",
       "dtype: int64"
      ]
     },
     "execution_count": 24,
     "metadata": {},
     "output_type": "execute_result"
    }
   ],
   "source": [
    "fruits_series.value_counts().sort_values()[:11]"
   ]
  },
  {
   "cell_type": "code",
   "execution_count": 25,
   "id": "3aec1a3f",
   "metadata": {},
   "outputs": [
    {
     "data": {
      "text/plain": [
       "' 5. Exercises Part II\\nExplore more attributes and methods while you continue to work \\nwith the fruits Series. '"
      ]
     },
     "execution_count": 25,
     "metadata": {},
     "output_type": "execute_result"
    }
   ],
   "source": [
    "''' 5. Exercises Part II\n",
    "Explore more attributes and methods while you continue to work \n",
    "with the fruits Series. '''"
   ]
  },
  {
   "cell_type": "code",
   "execution_count": 26,
   "id": "5d8b19b6",
   "metadata": {},
   "outputs": [
    {
     "data": {
      "text/plain": [
       "0                 Kiwi\n",
       "1                Mango\n",
       "2           Strawberry\n",
       "3            Pineapple\n",
       "4           Gala apple\n",
       "5     Honeycrisp apple\n",
       "6               Tomato\n",
       "7           Watermelon\n",
       "8             Honeydew\n",
       "9                 Kiwi\n",
       "10                Kiwi\n",
       "11                Kiwi\n",
       "12               Mango\n",
       "13           Blueberry\n",
       "14          Blackberry\n",
       "15          Gooseberry\n",
       "16              Papaya\n",
       "dtype: object"
      ]
     },
     "execution_count": 26,
     "metadata": {},
     "output_type": "execute_result"
    }
   ],
   "source": [
    "# 1. Capitalize all the string values in fruits.\n",
    "\n",
    "fruits_series.str.capitalize()"
   ]
  },
  {
   "cell_type": "code",
   "execution_count": 27,
   "id": "11415adc",
   "metadata": {},
   "outputs": [
    {
     "data": {
      "text/plain": [
       "0     0\n",
       "1     1\n",
       "2     1\n",
       "3     1\n",
       "4     3\n",
       "5     1\n",
       "6     1\n",
       "7     1\n",
       "8     0\n",
       "9     0\n",
       "10    0\n",
       "11    0\n",
       "12    1\n",
       "13    0\n",
       "14    1\n",
       "15    0\n",
       "16    3\n",
       "dtype: int64"
      ]
     },
     "execution_count": 27,
     "metadata": {},
     "output_type": "execute_result"
    }
   ],
   "source": [
    "# 2. Count the letter \"a\" in all the string values (use string vectorization).\n",
    "fruits_series.str.lower().str.count(r'[a]')"
   ]
  },
  {
   "cell_type": "code",
   "execution_count": 28,
   "id": "255be013",
   "metadata": {},
   "outputs": [],
   "source": [
    "# 3. Output the number of vowels in each and every string value."
   ]
  },
  {
   "cell_type": "code",
   "execution_count": 75,
   "id": "2df42919",
   "metadata": {},
   "outputs": [
    {
     "data": {
      "text/plain": [
       "0     2\n",
       "1     2\n",
       "2     2\n",
       "3     4\n",
       "4     4\n",
       "5     5\n",
       "6     3\n",
       "7     4\n",
       "8     3\n",
       "9     2\n",
       "10    2\n",
       "11    2\n",
       "12    2\n",
       "13    3\n",
       "14    2\n",
       "15    4\n",
       "16    3\n",
       "dtype: int64"
      ]
     },
     "execution_count": 75,
     "metadata": {},
     "output_type": "execute_result"
    }
   ],
   "source": [
    "fv = fruits_series.str.lower().str.count(r'[aeiou]')\n",
    "fv"
   ]
  },
  {
   "cell_type": "code",
   "execution_count": null,
   "id": "430200c6",
   "metadata": {},
   "outputs": [],
   "source": []
  },
  {
   "cell_type": "code",
   "execution_count": 30,
   "id": "ceae29c4",
   "metadata": {},
   "outputs": [
    {
     "data": {
      "text/html": [
       "<div>\n",
       "<style scoped>\n",
       "    .dataframe tbody tr th:only-of-type {\n",
       "        vertical-align: middle;\n",
       "    }\n",
       "\n",
       "    .dataframe tbody tr th {\n",
       "        vertical-align: top;\n",
       "    }\n",
       "\n",
       "    .dataframe thead th {\n",
       "        text-align: right;\n",
       "    }\n",
       "</style>\n",
       "<table border=\"1\" class=\"dataframe\">\n",
       "  <thead>\n",
       "    <tr style=\"text-align: right;\">\n",
       "      <th></th>\n",
       "      <th>fruits</th>\n",
       "      <th>vowel_count</th>\n",
       "    </tr>\n",
       "  </thead>\n",
       "  <tbody>\n",
       "    <tr>\n",
       "      <th>0</th>\n",
       "      <td>kiwi</td>\n",
       "      <td>2</td>\n",
       "    </tr>\n",
       "    <tr>\n",
       "      <th>1</th>\n",
       "      <td>mango</td>\n",
       "      <td>2</td>\n",
       "    </tr>\n",
       "    <tr>\n",
       "      <th>2</th>\n",
       "      <td>strawberry</td>\n",
       "      <td>2</td>\n",
       "    </tr>\n",
       "    <tr>\n",
       "      <th>3</th>\n",
       "      <td>pineapple</td>\n",
       "      <td>4</td>\n",
       "    </tr>\n",
       "    <tr>\n",
       "      <th>4</th>\n",
       "      <td>gala apple</td>\n",
       "      <td>4</td>\n",
       "    </tr>\n",
       "    <tr>\n",
       "      <th>5</th>\n",
       "      <td>honeycrisp apple</td>\n",
       "      <td>5</td>\n",
       "    </tr>\n",
       "    <tr>\n",
       "      <th>6</th>\n",
       "      <td>tomato</td>\n",
       "      <td>3</td>\n",
       "    </tr>\n",
       "    <tr>\n",
       "      <th>7</th>\n",
       "      <td>watermelon</td>\n",
       "      <td>4</td>\n",
       "    </tr>\n",
       "    <tr>\n",
       "      <th>8</th>\n",
       "      <td>honeydew</td>\n",
       "      <td>3</td>\n",
       "    </tr>\n",
       "    <tr>\n",
       "      <th>9</th>\n",
       "      <td>kiwi</td>\n",
       "      <td>2</td>\n",
       "    </tr>\n",
       "    <tr>\n",
       "      <th>10</th>\n",
       "      <td>kiwi</td>\n",
       "      <td>2</td>\n",
       "    </tr>\n",
       "    <tr>\n",
       "      <th>11</th>\n",
       "      <td>kiwi</td>\n",
       "      <td>2</td>\n",
       "    </tr>\n",
       "    <tr>\n",
       "      <th>12</th>\n",
       "      <td>mango</td>\n",
       "      <td>2</td>\n",
       "    </tr>\n",
       "    <tr>\n",
       "      <th>13</th>\n",
       "      <td>blueberry</td>\n",
       "      <td>3</td>\n",
       "    </tr>\n",
       "    <tr>\n",
       "      <th>14</th>\n",
       "      <td>blackberry</td>\n",
       "      <td>2</td>\n",
       "    </tr>\n",
       "    <tr>\n",
       "      <th>15</th>\n",
       "      <td>gooseberry</td>\n",
       "      <td>4</td>\n",
       "    </tr>\n",
       "    <tr>\n",
       "      <th>16</th>\n",
       "      <td>papaya</td>\n",
       "      <td>3</td>\n",
       "    </tr>\n",
       "  </tbody>\n",
       "</table>\n",
       "</div>"
      ],
      "text/plain": [
       "              fruits  vowel_count\n",
       "0               kiwi            2\n",
       "1              mango            2\n",
       "2         strawberry            2\n",
       "3          pineapple            4\n",
       "4         gala apple            4\n",
       "5   honeycrisp apple            5\n",
       "6             tomato            3\n",
       "7         watermelon            4\n",
       "8           honeydew            3\n",
       "9               kiwi            2\n",
       "10              kiwi            2\n",
       "11              kiwi            2\n",
       "12             mango            2\n",
       "13         blueberry            3\n",
       "14        blackberry            2\n",
       "15        gooseberry            4\n",
       "16            papaya            3"
      ]
     },
     "execution_count": 30,
     "metadata": {},
     "output_type": "execute_result"
    }
   ],
   "source": [
    "num_vowels= pd.DataFrame({'fruits': fruits_series, 'vowel_count': fv})\n",
    "num_vowels # fancy"
   ]
  },
  {
   "cell_type": "code",
   "execution_count": 31,
   "id": "a3d54526",
   "metadata": {},
   "outputs": [],
   "source": [
    "# 4. Write the code to get the longest string value from fruits."
   ]
  },
  {
   "cell_type": "code",
   "execution_count": 88,
   "id": "f09cd59b",
   "metadata": {},
   "outputs": [
    {
     "data": {
      "text/plain": [
       "5    honeycrisp apple\n",
       "dtype: object"
      ]
     },
     "execution_count": 88,
     "metadata": {},
     "output_type": "execute_result"
    }
   ],
   "source": [
    "fruits_series[fruits_series.str.len() >= 16]"
   ]
  },
  {
   "cell_type": "code",
   "execution_count": null,
   "id": "9064038d",
   "metadata": {},
   "outputs": [],
   "source": []
  },
  {
   "cell_type": "code",
   "execution_count": 33,
   "id": "f4eb2581",
   "metadata": {},
   "outputs": [],
   "source": [
    "# 5. Write the code to get the string values with 5 or more letters in the name."
   ]
  },
  {
   "cell_type": "code",
   "execution_count": 84,
   "id": "114196d6",
   "metadata": {},
   "outputs": [
    {
     "data": {
      "text/plain": [
       "1                mango\n",
       "2           strawberry\n",
       "3            pineapple\n",
       "4           gala apple\n",
       "5     honeycrisp apple\n",
       "6               tomato\n",
       "7           watermelon\n",
       "8             honeydew\n",
       "12               mango\n",
       "13           blueberry\n",
       "14          blackberry\n",
       "15          gooseberry\n",
       "16              papaya\n",
       "dtype: object"
      ]
     },
     "execution_count": 84,
     "metadata": {},
     "output_type": "execute_result"
    }
   ],
   "source": [
    "fruits_series[fruits_series.str.len() >= 5]\n"
   ]
  },
  {
   "cell_type": "code",
   "execution_count": 35,
   "id": "cd562990",
   "metadata": {},
   "outputs": [],
   "source": [
    "# 6. Find the fruit(s) containing the letter \"o\" two or more times."
   ]
  },
  {
   "cell_type": "code",
   "execution_count": 36,
   "id": "dd903483",
   "metadata": {},
   "outputs": [
    {
     "data": {
      "text/plain": [
       "6         tomato\n",
       "15    gooseberry\n",
       "dtype: object"
      ]
     },
     "execution_count": 36,
     "metadata": {},
     "output_type": "execute_result"
    }
   ],
   "source": [
    "fruits_series[fruits_series.apply(lambda row: row.count('o')>=2)]"
   ]
  },
  {
   "cell_type": "code",
   "execution_count": 37,
   "id": "585eb0f5",
   "metadata": {},
   "outputs": [
    {
     "data": {
      "text/plain": [
       "2     strawberry\n",
       "13     blueberry\n",
       "14    blackberry\n",
       "15    gooseberry\n",
       "dtype: object"
      ]
     },
     "execution_count": 37,
     "metadata": {},
     "output_type": "execute_result"
    }
   ],
   "source": [
    "# 7. Write the code to get only the string values containing the substring \"berry\".\n",
    "\n",
    "fruits_series[fruits_series.str.contains('berry')]"
   ]
  },
  {
   "cell_type": "code",
   "execution_count": 38,
   "id": "5b460a8a",
   "metadata": {},
   "outputs": [],
   "source": [
    "# 8. Write the code to get only the string values containing the substring \"apple\"."
   ]
  },
  {
   "cell_type": "code",
   "execution_count": 39,
   "id": "14f8b040",
   "metadata": {},
   "outputs": [
    {
     "data": {
      "text/plain": [
       "3           pineapple\n",
       "4          gala apple\n",
       "5    honeycrisp apple\n",
       "dtype: object"
      ]
     },
     "execution_count": 39,
     "metadata": {},
     "output_type": "execute_result"
    }
   ],
   "source": [
    "fruits_series[fruits_series.str.contains('apple')]"
   ]
  },
  {
   "cell_type": "code",
   "execution_count": 40,
   "id": "f3de5258",
   "metadata": {},
   "outputs": [
    {
     "data": {
      "text/plain": [
       "'honeycrisp apple'"
      ]
     },
     "execution_count": 40,
     "metadata": {},
     "output_type": "execute_result"
    }
   ],
   "source": [
    "# 9. Which string value contains the most vowels?\n",
    "\n",
    "fruits_series[fruits_series.str.lower().str.count(r'[aeiou]').max()]\n",
    "\n"
   ]
  },
  {
   "cell_type": "code",
   "execution_count": 41,
   "id": "e694921b",
   "metadata": {},
   "outputs": [
    {
     "data": {
      "text/plain": [
       "' 7. Exercises Part III\\nUse pandas to create a Series named letters from the\\nfollowing string. The easiest way to make this string \\ninto a Pandas series is to use list to convert each \\nindividual letter into a single string on a basic Python list.'"
      ]
     },
     "execution_count": 41,
     "metadata": {},
     "output_type": "execute_result"
    }
   ],
   "source": [
    "''' 7. Exercises Part III\n",
    "Use pandas to create a Series named letters from the\n",
    "following string. The easiest way to make this string \n",
    "into a Pandas series is to use list to convert each \n",
    "individual letter into a single string on a basic Python list.'''"
   ]
  },
  {
   "cell_type": "code",
   "execution_count": 42,
   "id": "8c1caeeb",
   "metadata": {},
   "outputs": [
    {
     "data": {
      "text/plain": [
       "0      h\n",
       "1      n\n",
       "2      v\n",
       "3      i\n",
       "4      d\n",
       "      ..\n",
       "195    r\n",
       "196    o\n",
       "197    g\n",
       "198    u\n",
       "199    y\n",
       "Length: 200, dtype: object"
      ]
     },
     "execution_count": 42,
     "metadata": {},
     "output_type": "execute_result"
    }
   ],
   "source": [
    "letters = pd.Series(list('hnvidduckkqxwymbimkccexbkmqygkxoyndmcxnwqarhyffsjpsrabtjzsypmzadfavyrnndndvswreauxovncxtwzpwejilzjrmmbbgbyxvjtewqthafnbkqplarokkyydtubbmnexoypulzwfhqvckdpqtpoppzqrmcvhhpwgjwupgzhiofohawytlsiyecuproguy'))\n",
    "letters "
   ]
  },
  {
   "cell_type": "code",
   "execution_count": 43,
   "id": "a65772ef",
   "metadata": {},
   "outputs": [],
   "source": [
    "# 1. Which letter occurs the most frequently in the letters Series?"
   ]
  },
  {
   "cell_type": "code",
   "execution_count": 44,
   "id": "100b494b",
   "metadata": {},
   "outputs": [
    {
     "name": "stdout",
     "output_type": "stream",
     "text": [
      "y\n",
      "13\n"
     ]
    }
   ],
   "source": [
    "print(letters.describe().top)\n",
    "print(letters.describe().freq)"
   ]
  },
  {
   "cell_type": "code",
   "execution_count": 45,
   "id": "cd99c24e",
   "metadata": {},
   "outputs": [
    {
     "data": {
      "text/plain": [
       "y    13\n",
       "dtype: int64"
      ]
     },
     "execution_count": 45,
     "metadata": {},
     "output_type": "execute_result"
    }
   ],
   "source": [
    "# or\n",
    "letters.value_counts().nlargest(n=1, keep= 'all')"
   ]
  },
  {
   "cell_type": "code",
   "execution_count": 46,
   "id": "815e3c7d",
   "metadata": {},
   "outputs": [],
   "source": [
    "# 2.Which letter occurs the Least frequently?"
   ]
  },
  {
   "cell_type": "code",
   "execution_count": 47,
   "id": "05bafec2",
   "metadata": {},
   "outputs": [
    {
     "data": {
      "text/plain": [
       "l    4\n",
       "dtype: int64"
      ]
     },
     "execution_count": 47,
     "metadata": {},
     "output_type": "execute_result"
    }
   ],
   "source": [
    "letters.value_counts().nsmallest(n=1, keep= 'all')"
   ]
  },
  {
   "cell_type": "code",
   "execution_count": 48,
   "id": "73f31014",
   "metadata": {},
   "outputs": [],
   "source": [
    "# 3. How many vowels are in the Series?"
   ]
  },
  {
   "cell_type": "code",
   "execution_count": 49,
   "id": "ac0917b9",
   "metadata": {},
   "outputs": [
    {
     "data": {
      "text/plain": [
       "34"
      ]
     },
     "execution_count": 49,
     "metadata": {},
     "output_type": "execute_result"
    }
   ],
   "source": [
    "lc = letters[letters.str.lower().str.contains(r'[aeiou]')]\n",
    "lc.count()"
   ]
  },
  {
   "cell_type": "code",
   "execution_count": 50,
   "id": "4abe0d20",
   "metadata": {},
   "outputs": [],
   "source": [
    "# 4. How many consonants are in the Series?"
   ]
  },
  {
   "cell_type": "code",
   "execution_count": 97,
   "id": "9b033402",
   "metadata": {},
   "outputs": [
    {
     "data": {
      "text/plain": [
       "0      h\n",
       "1      n\n",
       "2      v\n",
       "4      d\n",
       "5      d\n",
       "7      c\n",
       "8      k\n",
       "9      k\n",
       "10     q\n",
       "11     x\n",
       "12     w\n",
       "13     y\n",
       "14     m\n",
       "15     b\n",
       "17     m\n",
       "18     k\n",
       "19     c\n",
       "20     c\n",
       "22     x\n",
       "23     b\n",
       "24     k\n",
       "25     m\n",
       "26     q\n",
       "27     y\n",
       "28     g\n",
       "29     k\n",
       "30     x\n",
       "32     y\n",
       "33     n\n",
       "34     d\n",
       "35     m\n",
       "36     c\n",
       "37     x\n",
       "38     n\n",
       "39     w\n",
       "40     q\n",
       "42     r\n",
       "43     h\n",
       "44     y\n",
       "45     f\n",
       "46     f\n",
       "47     s\n",
       "48     j\n",
       "49     p\n",
       "50     s\n",
       "51     r\n",
       "53     b\n",
       "54     t\n",
       "55     j\n",
       "56     z\n",
       "57     s\n",
       "58     y\n",
       "59     p\n",
       "60     m\n",
       "61     z\n",
       "63     d\n",
       "64     f\n",
       "66     v\n",
       "67     y\n",
       "68     r\n",
       "69     n\n",
       "70     n\n",
       "71     d\n",
       "72     n\n",
       "73     d\n",
       "74     v\n",
       "75     s\n",
       "76     w\n",
       "77     r\n",
       "81     x\n",
       "83     v\n",
       "84     n\n",
       "85     c\n",
       "86     x\n",
       "87     t\n",
       "88     w\n",
       "89     z\n",
       "90     p\n",
       "91     w\n",
       "93     j\n",
       "95     l\n",
       "96     z\n",
       "97     j\n",
       "98     r\n",
       "99     m\n",
       "100    m\n",
       "101    b\n",
       "102    b\n",
       "103    g\n",
       "104    b\n",
       "105    y\n",
       "106    x\n",
       "107    v\n",
       "108    j\n",
       "109    t\n",
       "111    w\n",
       "112    q\n",
       "113    t\n",
       "114    h\n",
       "116    f\n",
       "117    n\n",
       "118    b\n",
       "119    k\n",
       "120    q\n",
       "121    p\n",
       "122    l\n",
       "124    r\n",
       "126    k\n",
       "127    k\n",
       "128    y\n",
       "129    y\n",
       "130    d\n",
       "131    t\n",
       "133    b\n",
       "134    b\n",
       "135    m\n",
       "136    n\n",
       "138    x\n",
       "140    y\n",
       "141    p\n",
       "143    l\n",
       "144    z\n",
       "145    w\n",
       "146    f\n",
       "147    h\n",
       "148    q\n",
       "149    v\n",
       "150    c\n",
       "151    k\n",
       "152    d\n",
       "153    p\n",
       "154    q\n",
       "155    t\n",
       "156    p\n",
       "158    p\n",
       "159    p\n",
       "160    z\n",
       "161    q\n",
       "162    r\n",
       "163    m\n",
       "164    c\n",
       "165    v\n",
       "166    h\n",
       "167    h\n",
       "168    p\n",
       "169    w\n",
       "170    g\n",
       "171    j\n",
       "172    w\n",
       "174    p\n",
       "175    g\n",
       "176    z\n",
       "177    h\n",
       "180    f\n",
       "182    h\n",
       "184    w\n",
       "185    y\n",
       "186    t\n",
       "187    l\n",
       "188    s\n",
       "190    y\n",
       "192    c\n",
       "194    p\n",
       "195    r\n",
       "197    g\n",
       "199    y\n",
       "dtype: object"
      ]
     },
     "execution_count": 97,
     "metadata": {},
     "output_type": "execute_result"
    }
   ],
   "source": [
    "letters[~letters.str.lower().str.contains(r'[aeiou]')]"
   ]
  },
  {
   "cell_type": "code",
   "execution_count": 98,
   "id": "48399338",
   "metadata": {},
   "outputs": [
    {
     "data": {
      "text/plain": [
       "166"
      ]
     },
     "execution_count": 98,
     "metadata": {},
     "output_type": "execute_result"
    }
   ],
   "source": [
    "# or\n",
    "lcc = letters[letters.str.lower().str.contains(r'[qwrtypsdfghjklzxcvbnm]')]\n",
    "lcc.count()"
   ]
  },
  {
   "cell_type": "code",
   "execution_count": 52,
   "id": "a7ab2ffd",
   "metadata": {},
   "outputs": [],
   "source": [
    "# 5. Create a Series that has all of the same letters but uppercased."
   ]
  },
  {
   "cell_type": "code",
   "execution_count": 53,
   "id": "55557af5",
   "metadata": {},
   "outputs": [
    {
     "data": {
      "text/plain": [
       "0      H\n",
       "1      N\n",
       "2      V\n",
       "3      I\n",
       "4      D\n",
       "      ..\n",
       "195    R\n",
       "196    O\n",
       "197    G\n",
       "198    U\n",
       "199    Y\n",
       "Length: 200, dtype: object"
      ]
     },
     "execution_count": 53,
     "metadata": {},
     "output_type": "execute_result"
    }
   ],
   "source": [
    "cap = letters.str.capitalize()\n",
    "cap"
   ]
  },
  {
   "cell_type": "code",
   "execution_count": 54,
   "id": "424f2a8a",
   "metadata": {},
   "outputs": [],
   "source": [
    "# 6. Create a bar plot of the frequencies of the 6 most commonly occuring letters.\n",
    "\n"
   ]
  },
  {
   "cell_type": "code",
   "execution_count": 99,
   "id": "dd45aba2",
   "metadata": {},
   "outputs": [
    {
     "data": {
      "text/plain": [
       "<AxesSubplot:>"
      ]
     },
     "execution_count": 99,
     "metadata": {},
     "output_type": "execute_result"
    },
    {
     "data": {
      "image/png": "[encoded data removed]",
      "text/plain": [
       "<Figure size 640x480 with 1 Axes>"
      ]
     },
     "metadata": {},
     "output_type": "display_data"
    }
   ],
   "source": [
    "letters.value_counts()[:6].plot.bar()"
   ]
  },
  {
   "cell_type": "code",
   "execution_count": 56,
   "id": "7d9dee78",
   "metadata": {},
   "outputs": [
    {
     "data": {
      "text/plain": [
       "' Use pandas to create a Series named numbers from the \\nfollowing list: '"
      ]
     },
     "execution_count": 56,
     "metadata": {},
     "output_type": "execute_result"
    }
   ],
   "source": [
    "''' Use pandas to create a Series named numbers from the \n",
    "following list: '''"
   ]
  },
  {
   "cell_type": "code",
   "execution_count": 57,
   "id": "f6166185",
   "metadata": {},
   "outputs": [],
   "source": [
    "numbers1 = ['$796,459.41', '$278.60', '$482,571.67', '$4,503,915.98', '$2,121,418.3', '$1,260,813.3', '$87,231.01', '$1,509,175.45', '$4,138,548.00', '$2,848,913.80', '$594,715.39', '$4,789,988.17', '$4,513,644.5', '$3,191,059.97', '$1,758,712.24', '$4,338,283.54', '$4,738,303.38', '$2,791,759.67', '$769,681.94', '$452,650.23']"
   ]
  },
  {
   "cell_type": "code",
   "execution_count": 58,
   "id": "b02cb068",
   "metadata": {},
   "outputs": [
    {
     "data": {
      "text/plain": [
       "0       $796,459.41\n",
       "1           $278.60\n",
       "2       $482,571.67\n",
       "3     $4,503,915.98\n",
       "4      $2,121,418.3\n",
       "5      $1,260,813.3\n",
       "6        $87,231.01\n",
       "7     $1,509,175.45\n",
       "8     $4,138,548.00\n",
       "9     $2,848,913.80\n",
       "10      $594,715.39\n",
       "11    $4,789,988.17\n",
       "12     $4,513,644.5\n",
       "13    $3,191,059.97\n",
       "14    $1,758,712.24\n",
       "15    $4,338,283.54\n",
       "16    $4,738,303.38\n",
       "17    $2,791,759.67\n",
       "18      $769,681.94\n",
       "19      $452,650.23\n",
       "dtype: object"
      ]
     },
     "execution_count": 58,
     "metadata": {},
     "output_type": "execute_result"
    }
   ],
   "source": [
    "numbers = pd.Series(numbers1)\n",
    "numbers"
   ]
  },
  {
   "cell_type": "code",
   "execution_count": 59,
   "id": "f085f37d",
   "metadata": {},
   "outputs": [],
   "source": [
    "# 1. What is the data type of the numbers Series?"
   ]
  },
  {
   "cell_type": "code",
   "execution_count": 60,
   "id": "12fe994b",
   "metadata": {},
   "outputs": [
    {
     "data": {
      "text/plain": [
       "dtype('O')"
      ]
     },
     "execution_count": 60,
     "metadata": {},
     "output_type": "execute_result"
    }
   ],
   "source": [
    "numbers.dtype"
   ]
  },
  {
   "cell_type": "code",
   "execution_count": 61,
   "id": "a587ae3f",
   "metadata": {},
   "outputs": [],
   "source": [
    "# 2. How many elements are in the number Series?"
   ]
  },
  {
   "cell_type": "code",
   "execution_count": 62,
   "id": "711c4c5f",
   "metadata": {},
   "outputs": [
    {
     "data": {
      "text/plain": [
       "20"
      ]
     },
     "execution_count": 62,
     "metadata": {},
     "output_type": "execute_result"
    }
   ],
   "source": [
    "numbers.size"
   ]
  },
  {
   "cell_type": "code",
   "execution_count": 63,
   "id": "43adf060",
   "metadata": {},
   "outputs": [],
   "source": [
    "# 3. Perform the necessary manipulations by accessing \n",
    "# Series attributes and methods to convert the \n",
    "# numbers Series to a numeric data type."
   ]
  },
  {
   "cell_type": "code",
   "execution_count": 105,
   "id": "9c45209a",
   "metadata": {},
   "outputs": [
    {
     "data": {
      "text/plain": [
       "0      796459.41\n",
       "1         278.60\n",
       "2      482571.67\n",
       "3     4503915.98\n",
       "4     2121418.30\n",
       "5     1260813.30\n",
       "6       87231.01\n",
       "7     1509175.45\n",
       "8     4138548.00\n",
       "9     2848913.80\n",
       "10     594715.39\n",
       "11    4789988.17\n",
       "12    4513644.50\n",
       "13    3191059.97\n",
       "14    1758712.24\n",
       "15    4338283.54\n",
       "16    4738303.38\n",
       "17    2791759.67\n",
       "18     769681.94\n",
       "19     452650.23\n",
       "dtype: float64"
      ]
     },
     "execution_count": 105,
     "metadata": {},
     "output_type": "execute_result"
    }
   ],
   "source": [
    "numf = numbers.str.replace('$','', regex=False).str.replace(',','', regex=False)\n",
    "numf = numf.astype('float')\n",
    "numf"
   ]
  },
  {
   "cell_type": "code",
   "execution_count": null,
   "id": "983fb8c6",
   "metadata": {},
   "outputs": [],
   "source": [
    "# 4. Run the code to discover the maximum value from the Series."
   ]
  },
  {
   "cell_type": "code",
   "execution_count": 100,
   "id": "422355d0",
   "metadata": {},
   "outputs": [
    {
     "data": {
      "text/plain": [
       "4789988.17"
      ]
     },
     "execution_count": 100,
     "metadata": {},
     "output_type": "execute_result"
    }
   ],
   "source": [
    "numf.max()"
   ]
  },
  {
   "cell_type": "code",
   "execution_count": 101,
   "id": "8573f7c7",
   "metadata": {},
   "outputs": [
    {
     "data": {
      "text/plain": [
       "278.6"
      ]
     },
     "execution_count": 101,
     "metadata": {},
     "output_type": "execute_result"
    }
   ],
   "source": [
    "# 5. Run the code to discover the minimum value from the Series.\n",
    "\n",
    "\n",
    "numf.min()"
   ]
  },
  {
   "cell_type": "code",
   "execution_count": null,
   "id": "6e788ac5",
   "metadata": {},
   "outputs": [],
   "source": [
    "# 6. What is the range of the values in the Series?"
   ]
  },
  {
   "cell_type": "code",
   "execution_count": 106,
   "id": "8659b037",
   "metadata": {},
   "outputs": [
    {
     "data": {
      "text/plain": [
       "4789709.57"
      ]
     },
     "execution_count": 106,
     "metadata": {},
     "output_type": "execute_result"
    }
   ],
   "source": [
    "range_of_numf = numf.max() - numf.min()\n",
    "range_of_numf"
   ]
  },
  {
   "cell_type": "code",
   "execution_count": null,
   "id": "2fd9e5fb",
   "metadata": {},
   "outputs": [],
   "source": [
    "# 7. Bin the data into 4 equally sized intervals or bins and \n",
    "# output how many values fall into each bin."
   ]
  },
  {
   "cell_type": "code",
   "execution_count": 113,
   "id": "6d887ef9",
   "metadata": {},
   "outputs": [
    {
     "data": {
      "text/plain": [
       "(-4511.111, 1197705.993]      7\n",
       "(3592560.778, 4789988.17]     6\n",
       "(1197705.993, 2395133.385]    4\n",
       "(2395133.385, 3592560.778]    3\n",
       "dtype: int64"
      ]
     },
     "execution_count": 113,
     "metadata": {},
     "output_type": "execute_result"
    }
   ],
   "source": [
    "numf.value_counts(bins=4)"
   ]
  },
  {
   "cell_type": "code",
   "execution_count": 118,
   "id": "e3806eca",
   "metadata": {},
   "outputs": [
    {
     "data": {
      "text/plain": [
       "[Text(0.5, 0, 'count of instances'), Text(0, 0.5, 'value bins in USD')]"
      ]
     },
     "execution_count": 118,
     "metadata": {},
     "output_type": "execute_result"
    },
    {
     "data": {
      "image/png": "[encoded data removed]",
      "text/plain": [
       "<Figure size 640x480 with 1 Axes>"
      ]
     },
     "metadata": {},
     "output_type": "display_data"
    }
   ],
   "source": [
    "# 8. Plot the binned data in a meaningful way. Be sure to include a title and axis labels.\n",
    "\n",
    "pd.cut(numf, bins = 4).value_counts().sort_index().plot.barh(title='Value').set(xlabel='count of instances', ylabel='value bins in USD')"
   ]
  },
  {
   "cell_type": "code",
   "execution_count": null,
   "id": "0ae584d1",
   "metadata": {},
   "outputs": [],
   "source": [
    "''' Use pandas to create a Series named exam_scores \n",
    "from the following list: '''"
   ]
  },
  {
   "cell_type": "code",
   "execution_count": 67,
   "id": "692dd7f0",
   "metadata": {},
   "outputs": [
    {
     "data": {
      "text/plain": [
       "0     60\n",
       "1     86\n",
       "2     75\n",
       "3     62\n",
       "4     93\n",
       "5     71\n",
       "6     60\n",
       "7     83\n",
       "8     95\n",
       "9     78\n",
       "10    65\n",
       "11    72\n",
       "12    69\n",
       "13    81\n",
       "14    96\n",
       "15    80\n",
       "16    85\n",
       "17    92\n",
       "18    82\n",
       "19    78\n",
       "dtype: int64"
      ]
     },
     "execution_count": 67,
     "metadata": {},
     "output_type": "execute_result"
    }
   ],
   "source": [
    "exam_scores = [60, 86, 75, 62, 93, 71, 60, 83, 95, 78, 65, 72, 69, 81, 96, 80, 85, 92, 82, 78]\n",
    "es = pd.Series(exam_scores)\n",
    "es"
   ]
  },
  {
   "cell_type": "code",
   "execution_count": null,
   "id": "e22e33ae",
   "metadata": {},
   "outputs": [],
   "source": [
    "# 1. How many elements are in the exam_scores Series?"
   ]
  },
  {
   "cell_type": "code",
   "execution_count": null,
   "id": "1594c330",
   "metadata": {},
   "outputs": [],
   "source": [
    "es.size"
   ]
  },
  {
   "cell_type": "code",
   "execution_count": null,
   "id": "de678293",
   "metadata": {},
   "outputs": [],
   "source": [
    "# 2. Run the code to discover the minimum, the maximum, \n",
    "# the mean, and the median scores for the exam_scores Series."
   ]
  },
  {
   "cell_type": "code",
   "execution_count": null,
   "id": "4fec2ac6",
   "metadata": {},
   "outputs": [],
   "source": [
    "print(es.max(), '|', es.min(), '|', es.mean(), '|', es.median())"
   ]
  },
  {
   "cell_type": "code",
   "execution_count": 122,
   "id": "2ee64d80",
   "metadata": {},
   "outputs": [
    {
     "data": {
      "text/plain": [
       "count    20.000000\n",
       "mean     78.150000\n",
       "std      11.352139\n",
       "min      60.000000\n",
       "25%      70.500000\n",
       "50%      79.000000\n",
       "75%      85.250000\n",
       "max      96.000000\n",
       "dtype: float64"
      ]
     },
     "execution_count": 122,
     "metadata": {},
     "output_type": "execute_result"
    }
   ],
   "source": [
    "#or\n",
    "es.describe()"
   ]
  },
  {
   "cell_type": "code",
   "execution_count": null,
   "id": "3eac4209",
   "metadata": {},
   "outputs": [],
   "source": [
    "# 3. Plot the Series in a meaningful way and make sure your\n",
    "# chart has a title and axis labels."
   ]
  },
  {
   "cell_type": "code",
   "execution_count": 120,
   "id": "bc0a8199",
   "metadata": {},
   "outputs": [
    {
     "data": {
      "text/plain": [
       "Text(0, 0.5, 'Score')"
      ]
     },
     "execution_count": 120,
     "metadata": {},
     "output_type": "execute_result"
    },
    {
     "data": {
      "image/png": "[encoded data removed]",
      "text/plain": [
       "<Figure size 640x480 with 1 Axes>"
      ]
     },
     "metadata": {},
     "output_type": "display_data"
    }
   ],
   "source": [
    "import matplotlib.pyplot as plt\n",
    "es.value_counts(bins = 4).sort_values().sort_index().plot.bar()\n",
    "plt.title('Test Scores')\n",
    "plt.xlabel(\"Freq\")\n",
    "plt.ylabel(\"Score\")\n",
    "\n"
   ]
  },
  {
   "cell_type": "code",
   "execution_count": null,
   "id": "fac88304",
   "metadata": {},
   "outputs": [],
   "source": [
    "# 4. Write the code necessary to implement a curve for your \n",
    "# exam_grades Series and save this as curved_grades. \n",
    "# Add the necessary points to the highest grade to make it 100, \n",
    "# and add the same number of points to every other score in \n",
    "# the Series as well."
   ]
  },
  {
   "cell_type": "code",
   "execution_count": 68,
   "id": "ac52e7bd",
   "metadata": {},
   "outputs": [
    {
     "data": {
      "text/plain": [
       "0      64\n",
       "1      90\n",
       "2      79\n",
       "3      66\n",
       "4      97\n",
       "5      75\n",
       "6      64\n",
       "7      87\n",
       "8      99\n",
       "9      82\n",
       "10     69\n",
       "11     76\n",
       "12     73\n",
       "13     85\n",
       "14    100\n",
       "15     84\n",
       "16     89\n",
       "17     96\n",
       "18     86\n",
       "19     82\n",
       "dtype: int64"
      ]
     },
     "execution_count": 68,
     "metadata": {},
     "output_type": "execute_result"
    }
   ],
   "source": [
    "curved_grades = es + 4\n",
    "curved_grades"
   ]
  },
  {
   "cell_type": "code",
   "execution_count": null,
   "id": "c341afb4",
   "metadata": {},
   "outputs": [],
   "source": [
    "# 5. Use a method to convert each of the numeric values in the \n",
    "# curved_grades Series into a categorical value of letter grades.\n",
    "# For example, 86 should be a 'B' and 95 should be an 'A'. \n",
    "# Save this as a Series named letter_grades."
   ]
  },
  {
   "cell_type": "code",
   "execution_count": 69,
   "id": "7c793184",
   "metadata": {},
   "outputs": [
    {
     "data": {
      "text/plain": [
       "0     F\n",
       "1     A\n",
       "2     C\n",
       "3     F\n",
       "4     A\n",
       "5     C\n",
       "6     F\n",
       "7     B\n",
       "8     A\n",
       "9     B\n",
       "10    F\n",
       "11    C\n",
       "12    C\n",
       "13    B\n",
       "14    A\n",
       "15    B\n",
       "16    B\n",
       "17    A\n",
       "18    B\n",
       "19    B\n",
       "dtype: object"
      ]
     },
     "execution_count": 69,
     "metadata": {},
     "output_type": "execute_result"
    }
   ],
   "source": [
    "def score(s):\n",
    "    if s >= 90:\n",
    "        return \"A\"\n",
    "    elif s >= 80:\n",
    "        return \"B\"\n",
    "    elif s >= 70:\n",
    "        return \"C\"\n",
    "    else:\n",
    "        return \"F\"\n",
    "letter_grades = curved_grades.apply(score)\n",
    "letter_grades"
   ]
  },
  {
   "cell_type": "code",
   "execution_count": null,
   "id": "9d96f57e",
   "metadata": {},
   "outputs": [],
   "source": [
    "# 6. Plot your new categorical letter_grades Series in a meaninful\n",
    "# way and include a title and axis labels."
   ]
  },
  {
   "cell_type": "code",
   "execution_count": 121,
   "id": "b481fce2",
   "metadata": {},
   "outputs": [
    {
     "data": {
      "text/plain": [
       "Text(0, 0.5, 'Total')"
      ]
     },
     "execution_count": 121,
     "metadata": {},
     "output_type": "execute_result"
    },
    {
     "data": {
      "image/png": "[encoded data removed]",
      "text/plain": [
       "<Figure size 640x480 with 1 Axes>"
      ]
     },
     "metadata": {},
     "output_type": "display_data"
    }
   ],
   "source": [
    "letter_grades.value_counts().sort_values().sort_index().plot.bar()\n",
    "plt.title('Test Scores')\n",
    "plt.xlabel(\"Letter Grade\")\n",
    "plt.ylabel(\"Total\")"
   ]
  }
 ],
 "metadata": {
  "kernelspec": {
   "display_name": "Python 3 (ipykernel)",
   "language": "python",
   "name": "python3"
  },
  "language_info": {
   "codemirror_mode": {
    "name": "ipython",
    "version": 3
   },
   "file_extension": ".py",
   "mimetype": "text/x-python",
   "name": "python",
   "nbconvert_exporter": "python",
   "pygments_lexer": "ipython3",
   "version": "3.9.13"
  }
 },
 "nbformat": 4,
 "nbformat_minor": 5
}
