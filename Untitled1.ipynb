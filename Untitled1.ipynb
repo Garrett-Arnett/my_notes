{
 "cells": [
  {
   "cell_type": "code",
   "execution_count": 6,
   "id": "9536954a",
   "metadata": {},
   "outputs": [],
   "source": [
    "from pydataset import data\n",
    "from math import sqrt\n",
    "import pandas as pd\n",
    "import numpy as np\n",
    "import matplotlib.pyplot as plt\n",
    "import numpy as np\n",
    "import pandas as pd\n",
    "from scipy import stats\n",
    "\n"
   ]
  },
  {
   "cell_type": "code",
   "execution_count": null,
   "id": "45f694b3",
   "metadata": {},
   "outputs": [],
   "source": [
    "import matplotlib.pyplot as plt\n",
    "import numpy as np\n",
    "import pandas as pd\n",
    "from scipy import stats\n",
    "from math import sqrt"
   ]
  },
  {
   "cell_type": "code",
   "execution_count": null,
   "id": "5ba781b5",
   "metadata": {},
   "outputs": [],
   "source": []
  },
  {
   "cell_type": "code",
   "execution_count": 2,
   "id": "b4d57e95",
   "metadata": {},
   "outputs": [
    {
     "data": {
      "text/plain": [
       "61.800000000000004"
      ]
     },
     "execution_count": 2,
     "metadata": {},
     "output_type": "execute_result"
    }
   ],
   "source": [
    "618*.1"
   ]
  },
  {
   "cell_type": "code",
   "execution_count": null,
   "id": "eb59744b",
   "metadata": {},
   "outputs": [],
   "source": [
    "# 7. There's a 70% chance on any given day that there will be at \n",
    "# least one food truck at Travis Park. However, you haven't\n",
    "# seen a food truck there in 3 days. How unlikely is this?"
   ]
  },
  {
   "cell_type": "code",
   "execution_count": 3,
   "id": "b773a51f",
   "metadata": {},
   "outputs": [
    {
     "data": {
      "text/plain": [
       "1.0"
      ]
     },
     "execution_count": 3,
     "metadata": {},
     "output_type": "execute_result"
    }
   ],
   "source": [
    "sim = 1_000_000\n",
    "trials = 250 # number of students\n",
    "fail = 1\n",
    "success = 0\n",
    "#1/250 = 0.01 prob\n",
    "simulation = np.random.choice([fail, success], size = (sim, trials), p=[0.1, 0.9])\n",
    "\n",
    "prob= (simulation.sum(axis=1) > 0 ).mean()\n",
    "prob"
   ]
  },
  {
   "cell_type": "code",
   "execution_count": null,
   "id": "d74b4291",
   "metadata": {},
   "outputs": [],
   "source": []
  },
  {
   "cell_type": "code",
   "execution_count": 14,
   "id": "280d80e4",
   "metadata": {},
   "outputs": [
    {
     "data": {
      "text/plain": [
       "0.16666666666666666"
      ]
     },
     "execution_count": 14,
     "metadata": {},
     "output_type": "execute_result"
    }
   ],
   "source": [
    "10/60"
   ]
  },
  {
   "cell_type": "code",
   "execution_count": 10,
   "id": "17de5216",
   "metadata": {},
   "outputs": [],
   "source": [
    "μ = 40 \n",
    "σ = 15 "
   ]
  },
  {
   "cell_type": "code",
   "execution_count": 16,
   "id": "6ba8acc5",
   "metadata": {},
   "outputs": [
    {
     "data": {
      "text/plain": [
       "25.083131751853706"
      ]
     },
     "execution_count": 16,
     "metadata": {},
     "output_type": "execute_result"
    }
   ],
   "source": [
    "\n",
    "grade_dist = stats.norm(μ, σ)\n",
    "grade_dist.ppf(.16)"
   ]
  },
  {
   "cell_type": "code",
   "execution_count": 18,
   "id": "c4f6f6db",
   "metadata": {},
   "outputs": [
    {
     "data": {
      "text/plain": [
       "0.8413447460685429"
      ]
     },
     "execution_count": 18,
     "metadata": {},
     "output_type": "execute_result"
    }
   ],
   "source": [
    "mean = 40\n",
    "std_dev = 15\n",
    "\n",
    "# Define the time to walk from home to the restaurant\n",
    "walk_time = 5\n",
    "\n",
    "# Define the length of the lunch hour\n",
    "lunch_hour = 60\n",
    "\n",
    "# Calculate the total time T\n",
    "T_mean = mean + walk_time\n",
    "T_var = std_dev**2\n",
    "T_std_dev = T_var**0.5\n",
    "T_dist = stats.norm(T_mean, T_std_dev)\n",
    "\n",
    "# Calculate the probability that T is less than the length of the lunch hour\n",
    "prob_T_less_than_lunch_hour = T_dist.cdf(lunch_hour)\n",
    "prob_T_less_than_lunch_hour"
   ]
  },
  {
   "cell_type": "code",
   "execution_count": 19,
   "id": "f40c6d0e",
   "metadata": {},
   "outputs": [
    {
     "name": "stdout",
     "output_type": "stream",
     "text": [
      "The probability that 70 or more people take the survey is 0.1509\n"
     ]
    }
   ],
   "source": [
    "import scipy.stats as stats\n",
    "\n",
    "# Define the number of customers\n",
    "n_customers = 618\n",
    "\n",
    "# Define the probability of completing the survey\n",
    "p_survey = 0.10\n",
    "\n",
    "# Define the number of people who need to take the survey\n",
    "n_survey = 70\n",
    "\n",
    "# Calculate the mean and standard deviation of the number of people who take the survey\n",
    "mean_survey = n_customers * p_survey\n",
    "std_dev_survey = (n_customers * p_survey * (1 - p_survey))**0.5\n",
    "\n",
    "# Calculate the probability that 70 or more people take the survey\n",
    "prob_70_or_more = 1 - stats.norm(mean_survey, std_dev_survey).cdf(n_survey - 0.5)\n",
    "\n",
    "print(f\"The probability that 70 or more people take the survey is {prob_70_or_more:.4f}\")"
   ]
  },
  {
   "cell_type": "code",
   "execution_count": null,
   "id": "a9b7ce14",
   "metadata": {},
   "outputs": [],
   "source": []
  }
 ],
 "metadata": {
  "kernelspec": {
   "display_name": "Python 3 (ipykernel)",
   "language": "python",
   "name": "python3"
  },
  "language_info": {
   "codemirror_mode": {
    "name": "ipython",
    "version": 3
   },
   "file_extension": ".py",
   "mimetype": "text/x-python",
   "name": "python",
   "nbconvert_exporter": "python",
   "pygments_lexer": "ipython3",
   "version": "3.9.13"
  }
 },
 "nbformat": 4,
 "nbformat_minor": 5
}
