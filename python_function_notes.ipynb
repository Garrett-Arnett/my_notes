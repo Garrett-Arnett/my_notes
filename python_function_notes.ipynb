{
 "cells": [
  {
   "cell_type": "markdown",
   "id": "eb7f1970",
   "metadata": {},
   "source": [
    "### Functions\n",
    "\n",
    "##### functions are one of the biggest tools we have in python"
   ]
  },
  {
   "cell_type": "code",
   "execution_count": 2,
   "id": "cbf33aff",
   "metadata": {},
   "outputs": [
    {
     "data": {
      "text/plain": [
       "11"
      ]
     },
     "execution_count": 2,
     "metadata": {},
     "output_type": "execute_result"
    }
   ],
   "source": [
    "# two flavors\n",
    "# what you made\n",
    "# what others made\n",
    "len('Hello oneil')\n",
    "#len in a function that exists in the python standard library\n",
    "# functions loike len cna be called without any type# if extra imports(more on this later)"
   ]
  },
  {
   "cell_type": "code",
   "execution_count": 3,
   "id": "028473fc",
   "metadata": {},
   "outputs": [
    {
     "data": {
      "text/plain": [
       "<function len(obj, /)>"
      ]
     },
     "execution_count": 3,
     "metadata": {},
     "output_type": "execute_result"
    }
   ],
   "source": [
    "len\n",
    "#examine function"
   ]
  },
  {
   "cell_type": "code",
   "execution_count": null,
   "id": "8739ca2c",
   "metadata": {},
   "outputs": [],
   "source": [
    "# the function itself is called len\n",
    "# the *invocation* of the function:\n",
    "#len()\n",
    "\n",
    "# the thing that len was asking for when it broke, it used\n",
    "# the word argument  '()'"
   ]
  },
  {
   "cell_type": "code",
   "execution_count": 8,
   "id": "c5e4bfb9",
   "metadata": {},
   "outputs": [
    {
     "data": {
      "text/plain": [
       "4"
      ]
     },
     "execution_count": 8,
     "metadata": {},
     "output_type": "execute_result"
    }
   ],
   "source": [
    "len([3, 6, 9 ,['23', '34']])"
   ]
  },
  {
   "cell_type": "code",
   "execution_count": 9,
   "id": "e495c52b",
   "metadata": {},
   "outputs": [],
   "source": [
    "# in this case len will be fed anything that it can count\n",
    "# and return said count back to the user to get \n",
    "#documentation on the function:\n",
    "# i can call\n",
    "len?\n"
   ]
  },
  {
   "cell_type": "markdown",
   "id": "e915d7b5",
   "metadata": {},
   "source": [
    "# Lets build a function\n",
    "\n"
   ]
  },
  {
   "cell_type": "code",
   "execution_count": 10,
   "id": "aa61edd9",
   "metadata": {},
   "outputs": [],
   "source": [
    "# structure:\n",
    "# def <the name od function> (<any parameters?)\n",
    "\n",
    "def my_oneil_function():\n",
    "        '''\n",
    "        this is where a doc-string goes\n",
    "        '''\n",
    "        print('Hello')"
   ]
  },
  {
   "cell_type": "code",
   "execution_count": 11,
   "id": "a7efbf75",
   "metadata": {},
   "outputs": [
    {
     "name": "stdout",
     "output_type": "stream",
     "text": [
      "Hello\n"
     ]
    }
   ],
   "source": [
    "# lets invoke our first function\n",
    "# to call the function:\n",
    "my_oneil_function()"
   ]
  },
  {
   "cell_type": "code",
   "execution_count": 18,
   "id": "b9e7d873",
   "metadata": {},
   "outputs": [],
   "source": [
    "x=7\n",
    "def my_obfuscation():\n",
    "        x = 45\n",
    "        print(x)"
   ]
  },
  {
   "cell_type": "code",
   "execution_count": 19,
   "id": "ca8dfec1",
   "metadata": {},
   "outputs": [
    {
     "name": "stdout",
     "output_type": "stream",
     "text": [
      "45\n"
     ]
    }
   ],
   "source": [
    "my_obfuscation()"
   ]
  },
  {
   "cell_type": "code",
   "execution_count": 20,
   "id": "45266524",
   "metadata": {},
   "outputs": [
    {
     "data": {
      "text/plain": [
       "7"
      ]
     },
     "execution_count": 20,
     "metadata": {},
     "output_type": "execute_result"
    }
   ],
   "source": [
    "x"
   ]
  },
  {
   "cell_type": "code",
   "execution_count": null,
   "id": "9ee302f9",
   "metadata": {},
   "outputs": [],
   "source": [
    "# global versal local scorpe\n",
    "# the global variable was set to 7\n",
    "# when we invoke my_obsfiscation:\n",
    "#we get inside of the function call\n",
    "# and we make a variable called x that gets the value of 45\n",
    "# the function and then print the global version\n",
    "# outside of the scope of the function where x is still 7"
   ]
  },
  {
   "cell_type": "code",
   "execution_count": 21,
   "id": "7faa8a0b",
   "metadata": {},
   "outputs": [],
   "source": [
    "def my_altering_function(n):\n",
    "        ''' \n",
    "        my altering functino will take any integer \n",
    "        valiu and reassign it to 45. \n",
    "        Return: a single int, 45\n",
    "        '''\n",
    "        n = 45\n",
    "        return n"
   ]
  },
  {
   "cell_type": "code",
   "execution_count": 22,
   "id": "f282c557",
   "metadata": {},
   "outputs": [],
   "source": [
    "x = 7"
   ]
  },
  {
   "cell_type": "code",
   "execution_count": 23,
   "id": "c52276d7",
   "metadata": {},
   "outputs": [
    {
     "data": {
      "text/plain": [
       "7"
      ]
     },
     "execution_count": 23,
     "metadata": {},
     "output_type": "execute_result"
    }
   ],
   "source": [
    "x"
   ]
  },
  {
   "cell_type": "code",
   "execution_count": 24,
   "id": "3a3ca558",
   "metadata": {},
   "outputs": [
    {
     "data": {
      "text/plain": [
       "45"
      ]
     },
     "execution_count": 24,
     "metadata": {},
     "output_type": "execute_result"
    }
   ],
   "source": [
    "my_altering_function(x)"
   ]
  },
  {
   "cell_type": "code",
   "execution_count": 25,
   "id": "a3b67371",
   "metadata": {},
   "outputs": [
    {
     "data": {
      "text/plain": [
       "7"
      ]
     },
     "execution_count": 25,
     "metadata": {},
     "output_type": "execute_result"
    }
   ],
   "source": [
    "x"
   ]
  },
  {
   "cell_type": "code",
   "execution_count": 26,
   "id": "d0ca4be0",
   "metadata": {},
   "outputs": [],
   "source": [
    "x = my_altering_function(x)"
   ]
  },
  {
   "cell_type": "code",
   "execution_count": 27,
   "id": "3bbc8e46",
   "metadata": {},
   "outputs": [
    {
     "data": {
      "text/plain": [
       "45"
      ]
     },
     "execution_count": 27,
     "metadata": {},
     "output_type": "execute_result"
    }
   ],
   "source": [
    "x"
   ]
  },
  {
   "cell_type": "code",
   "execution_count": 41,
   "id": "7a16b65a",
   "metadata": {},
   "outputs": [],
   "source": [
    "# elaborating on return statements:\n",
    "def my_hidden_stuff(some_string):\n",
    "    '''\n",
    "    Hide and seek\n",
    "    '''\n",
    "    print('hello')\n",
    "    x = 5\n",
    "    if len(some_string) > 6:\n",
    "        return x\n",
    "    else:\n",
    "        return 9\n",
    "    print('all done')\n",
    "    return 25"
   ]
  },
  {
   "cell_type": "code",
   "execution_count": 42,
   "id": "3c9b80ee",
   "metadata": {},
   "outputs": [
    {
     "name": "stdout",
     "output_type": "stream",
     "text": [
      "hello\n"
     ]
    }
   ],
   "source": [
    "my_var = my_hidden_stuff('please do something')"
   ]
  },
  {
   "cell_type": "code",
   "execution_count": 43,
   "id": "a1eff73c",
   "metadata": {},
   "outputs": [
    {
     "data": {
      "text/plain": [
       "5"
      ]
     },
     "execution_count": 43,
     "metadata": {},
     "output_type": "execute_result"
    }
   ],
   "source": [
    "my_var"
   ]
  },
  {
   "cell_type": "code",
   "execution_count": 47,
   "id": "75d6e81a",
   "metadata": {},
   "outputs": [
    {
     "name": "stdout",
     "output_type": "stream",
     "text": [
      "hello\n"
     ]
    },
    {
     "data": {
      "text/plain": [
       "9"
      ]
     },
     "execution_count": 47,
     "metadata": {},
     "output_type": "execute_result"
    }
   ],
   "source": [
    "my_hidden_stuff('hello!')"
   ]
  },
  {
   "cell_type": "code",
   "execution_count": 48,
   "id": "76637d5c",
   "metadata": {},
   "outputs": [],
   "source": [
    "# unpacking\n",
    "my_list_of_args = ['hello', '9', 24]"
   ]
  },
  {
   "cell_type": "code",
   "execution_count": 49,
   "id": "a5630525",
   "metadata": {},
   "outputs": [
    {
     "data": {
      "text/plain": [
       "['hello', '9', 24]"
      ]
     },
     "execution_count": 49,
     "metadata": {},
     "output_type": "execute_result"
    }
   ],
   "source": [
    "my_list_of_args"
   ]
  },
  {
   "cell_type": "code",
   "execution_count": 53,
   "id": "6c1a437c",
   "metadata": {},
   "outputs": [
    {
     "name": "stdout",
     "output_type": "stream",
     "text": [
      "hello\n"
     ]
    },
    {
     "data": {
      "text/plain": [
       "9"
      ]
     },
     "execution_count": 53,
     "metadata": {},
     "output_type": "execute_result"
    }
   ],
   "source": [
    "my_hidden_stuff(my_list_of_args)"
   ]
  },
  {
   "cell_type": "code",
   "execution_count": 55,
   "id": "46aaf9fe",
   "metadata": {},
   "outputs": [],
   "source": [
    "def my_extra_fun(x=5, y=10):\n",
    "    x += 5\n",
    "    y += 5\n",
    "    return x, y"
   ]
  },
  {
   "cell_type": "code",
   "execution_count": 56,
   "id": "0e21260e",
   "metadata": {},
   "outputs": [
    {
     "data": {
      "text/plain": [
       "<function __main__.my_extra_fun(x=5, y=10)>"
      ]
     },
     "execution_count": 56,
     "metadata": {},
     "output_type": "execute_result"
    }
   ],
   "source": [
    "my_extra_fun"
   ]
  },
  {
   "cell_type": "code",
   "execution_count": 57,
   "id": "86987ed6",
   "metadata": {},
   "outputs": [
    {
     "data": {
      "text/plain": [
       "(10, 15)"
      ]
     },
     "execution_count": 57,
     "metadata": {},
     "output_type": "execute_result"
    }
   ],
   "source": [
    "my_extra_fun()"
   ]
  },
  {
   "cell_type": "code",
   "execution_count": null,
   "id": "25280c66",
   "metadata": {},
   "outputs": [],
   "source": []
  },
  {
   "cell_type": "code",
   "execution_count": null,
   "id": "913bf5c0",
   "metadata": {},
   "outputs": [],
   "source": []
  },
  {
   "cell_type": "code",
   "execution_count": null,
   "id": "0fcb12f9",
   "metadata": {},
   "outputs": [],
   "source": []
  }
 ],
 "metadata": {
  "kernelspec": {
   "display_name": "Python 3 (ipykernel)",
   "language": "python",
   "name": "python3"
  },
  "language_info": {
   "codemirror_mode": {
    "name": "ipython",
    "version": 3
   },
   "file_extension": ".py",
   "mimetype": "text/x-python",
   "name": "python",
   "nbconvert_exporter": "python",
   "pygments_lexer": "ipython3",
   "version": "3.9.13"
  }
 },
 "nbformat": 4,
 "nbformat_minor": 5
}
