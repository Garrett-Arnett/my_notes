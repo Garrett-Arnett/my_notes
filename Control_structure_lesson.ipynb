{
 "cells": [
  {
   "cell_type": "code",
   "execution_count": 1,
   "id": "1878ddd6",
   "metadata": {},
   "outputs": [],
   "source": [
    "#### Control Structures\n",
    "\n",
    "### Topic 1: if statements"
   ]
  },
  {
   "cell_type": "code",
   "execution_count": null,
   "id": "90232625",
   "metadata": {},
   "outputs": [],
   "source": [
    "\n",
    "# an if statement controls what action i do when\n",
    "\n",
    "# if <thing>:\n",
    "#    <do action>"
   ]
  },
  {
   "cell_type": "code",
   "execution_count": 4,
   "id": "acd3d9bd",
   "metadata": {},
   "outputs": [],
   "source": [
    "breakfast = 'coffee'\n",
    "# single = is assign ... == is equivalence check"
   ]
  },
  {
   "cell_type": "code",
   "execution_count": 5,
   "id": "3512a7f2",
   "metadata": {},
   "outputs": [
    {
     "data": {
      "text/plain": [
       "'coffee'"
      ]
     },
     "execution_count": 5,
     "metadata": {},
     "output_type": "execute_result"
    }
   ],
   "source": [
    "breakfast"
   ]
  },
  {
   "cell_type": "code",
   "execution_count": 6,
   "id": "5b68cabb",
   "metadata": {},
   "outputs": [],
   "source": [
    "if breakfast == 'banana':\n",
    "    pringt('you had a fruit')"
   ]
  },
  {
   "cell_type": "code",
   "execution_count": 7,
   "id": "3f6d97df",
   "metadata": {},
   "outputs": [
    {
     "name": "stdout",
     "output_type": "stream",
     "text": [
      "you had something else, or nothing\n"
     ]
    }
   ],
   "source": [
    "# if i build this out with an else\n",
    "if breakfast == 'banana':\n",
    "    print('you had a fruit')\n",
    "else:\n",
    "    print('you had something else, or nothing')"
   ]
  },
  {
   "cell_type": "code",
   "execution_count": 8,
   "id": "7d5343f2",
   "metadata": {},
   "outputs": [],
   "source": [
    "breakfast = 'banana'"
   ]
  },
  {
   "cell_type": "code",
   "execution_count": 9,
   "id": "7bb2474b",
   "metadata": {},
   "outputs": [
    {
     "data": {
      "text/plain": [
       "str"
      ]
     },
     "execution_count": 9,
     "metadata": {},
     "output_type": "execute_result"
    }
   ],
   "source": [
    "type(breakfast)"
   ]
  },
  {
   "cell_type": "code",
   "execution_count": 10,
   "id": "079833f5",
   "metadata": {},
   "outputs": [
    {
     "data": {
      "text/plain": [
       "'banana'"
      ]
     },
     "execution_count": 10,
     "metadata": {},
     "output_type": "execute_result"
    }
   ],
   "source": [
    "breakfast"
   ]
  },
  {
   "cell_type": "code",
   "execution_count": 15,
   "id": "19f1c5e7",
   "metadata": {},
   "outputs": [],
   "source": [
    "had_coffee = True"
   ]
  },
  {
   "cell_type": "code",
   "execution_count": 16,
   "id": "08810fc5",
   "metadata": {},
   "outputs": [
    {
     "name": "stdout",
     "output_type": "stream",
     "text": [
      "you had a fruit\n"
     ]
    }
   ],
   "source": [
    "\n",
    "if breakfast == 'banana':\n",
    "    print('you had a fruit')\n",
    "elif not had_coffee:\n",
    "    print(' you need more caffeine')\n",
    "else:\n",
    "    print('you had something else, or nothing')"
   ]
  },
  {
   "cell_type": "code",
   "execution_count": 18,
   "id": "1b5af754",
   "metadata": {},
   "outputs": [
    {
     "name": "stdout",
     "output_type": "stream",
     "text": [
      "hi breakfast\n"
     ]
    }
   ],
   "source": [
    "if breakfast:\n",
    "    print('hi breakfast')"
   ]
  },
  {
   "cell_type": "code",
   "execution_count": null,
   "id": "a9a19a2e",
   "metadata": {},
   "outputs": [],
   "source": [
    "# check for a non existing variable. result is an error"
   ]
  },
  {
   "cell_type": "code",
   "execution_count": 19,
   "id": "5dab5d79",
   "metadata": {},
   "outputs": [
    {
     "ename": "NameError",
     "evalue": "name 'lunch' is not defined",
     "output_type": "error",
     "traceback": [
      "\u001b[0;31m---------------------------------------------------------------------------\u001b[0m",
      "\u001b[0;31mNameError\u001b[0m                                 Traceback (most recent call last)",
      "\u001b[0;32m/var/folders/f5/r0cvcy8d6bl6nqmwjp01nhjh0000gn/T/ipykernel_17301/2082505326.py\u001b[0m in \u001b[0;36m<module>\u001b[0;34m\u001b[0m\n\u001b[0;32m----> 1\u001b[0;31m \u001b[0;32mif\u001b[0m \u001b[0mlunch\u001b[0m\u001b[0;34m:\u001b[0m\u001b[0;34m\u001b[0m\u001b[0;34m\u001b[0m\u001b[0m\n\u001b[0m\u001b[1;32m      2\u001b[0m     \u001b[0mprint\u001b[0m\u001b[0;34m(\u001b[0m\u001b[0;34m'hi lunch'\u001b[0m\u001b[0;34m)\u001b[0m\u001b[0;34m\u001b[0m\u001b[0;34m\u001b[0m\u001b[0m\n",
      "\u001b[0;31mNameError\u001b[0m: name 'lunch' is not defined"
     ]
    }
   ],
   "source": [
    "if lunch:\n",
    "    print('hi lunch')"
   ]
  },
  {
   "cell_type": "code",
   "execution_count": 20,
   "id": "55070a42",
   "metadata": {},
   "outputs": [
    {
     "data": {
      "text/plain": [
       "True"
      ]
     },
     "execution_count": 20,
     "metadata": {},
     "output_type": "execute_result"
    }
   ],
   "source": [
    "had_coffee"
   ]
  },
  {
   "cell_type": "code",
   "execution_count": 21,
   "id": "d3ae8498",
   "metadata": {},
   "outputs": [
    {
     "data": {
      "text/plain": [
       "'banana'"
      ]
     },
     "execution_count": 21,
     "metadata": {},
     "output_type": "execute_result"
    }
   ],
   "source": [
    "breakfast"
   ]
  },
  {
   "cell_type": "code",
   "execution_count": null,
   "id": "581d3bb2",
   "metadata": {},
   "outputs": [],
   "source": [
    "# remove the not for had coffee"
   ]
  },
  {
   "cell_type": "code",
   "execution_count": 27,
   "id": "e47ad831",
   "metadata": {},
   "outputs": [
    {
     "name": "stdout",
     "output_type": "stream",
     "text": [
      "had fruit\n"
     ]
    }
   ],
   "source": [
    "if not had_coffee:\n",
    "    print('need caffeine')\n",
    "if breakfast == 'banana':\n",
    "    print('had fruit')\n",
    "else:\n",
    "    print('you had something else, or nothing')"
   ]
  },
  {
   "cell_type": "code",
   "execution_count": 24,
   "id": "0e67a4bd",
   "metadata": {},
   "outputs": [
    {
     "name": "stdout",
     "output_type": "stream",
     "text": [
      "somewhat balanced breakfast\n"
     ]
    }
   ],
   "source": [
    "if had_coffee and breakfast == 'banana':\n",
    "    print('somewhat balanced breakfast')\n",
    "else:\n",
    "    ('you do you')"
   ]
  },
  {
   "cell_type": "code",
   "execution_count": 28,
   "id": "369b1039",
   "metadata": {},
   "outputs": [
    {
     "name": "stdout",
     "output_type": "stream",
     "text": [
      "need caffeine\n"
     ]
    }
   ],
   "source": [
    "if had_coffee:\n",
    "    print('need caffeine')\n",
    "elif breakfast == 'banana':\n",
    "    print('had fruit')\n",
    "else:\n",
    "    print('you had something else, or nothing')"
   ]
  },
  {
   "cell_type": "code",
   "execution_count": 29,
   "id": "015edb5c",
   "metadata": {},
   "outputs": [
    {
     "name": "stdout",
     "output_type": "stream",
     "text": [
      "thats a string value\n",
      "fruit\n"
     ]
    }
   ],
   "source": [
    "# nesting\n",
    "if type(breakfast) == str:\n",
    "    print('thats a string value')\n",
    "    if breakfast in ['banana','orange']:\n",
    "        print('fruit')\n",
    "    else:\n",
    "        print('not fruit')\n",
    "else:\n",
    "    print('not a string')"
   ]
  },
  {
   "cell_type": "code",
   "execution_count": 31,
   "id": "182d7e5a",
   "metadata": {},
   "outputs": [
    {
     "name": "stdout",
     "output_type": "stream",
     "text": [
      "not a string\n"
     ]
    }
   ],
   "source": [
    "#break\n",
    "\n",
    "if type(breakfast) == bool:\n",
    "    print('thats a string value')\n",
    "    if breakfast in ['banana','orange']:\n",
    "        print('fruit')\n",
    "    else:\n",
    "        print('not fruit')\n",
    "else:\n",
    "    print('not a string')"
   ]
  },
  {
   "cell_type": "code",
   "execution_count": null,
   "id": "dd05c114",
   "metadata": {},
   "outputs": [],
   "source": [
    "# string as list like"
   ]
  },
  {
   "cell_type": "code",
   "execution_count": 32,
   "id": "e5452ec8",
   "metadata": {},
   "outputs": [
    {
     "data": {
      "text/plain": [
       "True"
      ]
     },
     "execution_count": 32,
     "metadata": {},
     "output_type": "execute_result"
    }
   ],
   "source": [
    "'a' in 'banana'"
   ]
  },
  {
   "cell_type": "code",
   "execution_count": 33,
   "id": "d33c3713",
   "metadata": {},
   "outputs": [
    {
     "data": {
      "text/plain": [
       "False"
      ]
     },
     "execution_count": 33,
     "metadata": {},
     "output_type": "execute_result"
    }
   ],
   "source": [
    "'z' in 'banana'"
   ]
  },
  {
   "cell_type": "code",
   "execution_count": 34,
   "id": "68d4196c",
   "metadata": {},
   "outputs": [
    {
     "data": {
      "text/plain": [
       "True"
      ]
     },
     "execution_count": 34,
     "metadata": {},
     "output_type": "execute_result"
    }
   ],
   "source": [
    "'ana' in 'banana'"
   ]
  },
  {
   "cell_type": "code",
   "execution_count": 35,
   "id": "59447215",
   "metadata": {},
   "outputs": [
    {
     "data": {
      "text/plain": [
       "'n'"
      ]
     },
     "execution_count": 35,
     "metadata": {},
     "output_type": "execute_result"
    }
   ],
   "source": [
    "'banana'[2]"
   ]
  },
  {
   "cell_type": "code",
   "execution_count": 36,
   "id": "df8e4251",
   "metadata": {},
   "outputs": [
    {
     "data": {
      "text/plain": [
       "['b', 'a', 'n', 'a', 'n', 'a']"
      ]
     },
     "execution_count": 36,
     "metadata": {},
     "output_type": "execute_result"
    }
   ],
   "source": [
    "[let for let in 'banana']"
   ]
  },
  {
   "cell_type": "code",
   "execution_count": 43,
   "id": "b97da74e",
   "metadata": {},
   "outputs": [],
   "source": [
    "gwen_list_2 = [let+'!' for let in 'banana']"
   ]
  },
  {
   "cell_type": "code",
   "execution_count": 39,
   "id": "9281785c",
   "metadata": {},
   "outputs": [],
   "source": [
    "\n",
    "### Loops "
   ]
  },
  {
   "cell_type": "code",
   "execution_count": null,
   "id": "6185e8af",
   "metadata": {},
   "outputs": [],
   "source": [
    "# a for loop will do an action per everything inside\n",
    "#an iterable defined in the loop\n",
    "\n",
    "#for i in itr:\n",
    "#            do action, probably related to i"
   ]
  },
  {
   "cell_type": "code",
   "execution_count": 49,
   "id": "8148d98e",
   "metadata": {},
   "outputs": [],
   "source": [
    "gwen_list = [\n",
    "    let for let in 'bananas']"
   ]
  },
  {
   "cell_type": "code",
   "execution_count": 50,
   "id": "4a696617",
   "metadata": {},
   "outputs": [
    {
     "data": {
      "text/plain": [
       "['b', 'a', 'n', 'a', 'n', 'a', 's']"
      ]
     },
     "execution_count": 50,
     "metadata": {},
     "output_type": "execute_result"
    }
   ],
   "source": [
    "gwen_list"
   ]
  },
  {
   "cell_type": "code",
   "execution_count": null,
   "id": "7de5ed72",
   "metadata": {},
   "outputs": [],
   "source": []
  },
  {
   "cell_type": "code",
   "execution_count": 51,
   "id": "a4000207",
   "metadata": {},
   "outputs": [
    {
     "data": {
      "text/plain": [
       "'4ba'"
      ]
     },
     "execution_count": 51,
     "metadata": {},
     "output_type": "execute_result"
    }
   ],
   "source": [
    "# type casting\n",
    "\n",
    "str(4) + 'ba'\n",
    "# changed 4 into string\n",
    "'4' + 'ba'"
   ]
  },
  {
   "cell_type": "code",
   "execution_count": 53,
   "id": "a6510b3b",
   "metadata": {},
   "outputs": [
    {
     "data": {
      "text/plain": [
       "4"
      ]
     },
     "execution_count": 53,
     "metadata": {},
     "output_type": "execute_result"
    }
   ],
   "source": [
    "int('4')"
   ]
  },
  {
   "cell_type": "code",
   "execution_count": 57,
   "id": "964d0a14",
   "metadata": {},
   "outputs": [
    {
     "name": "stdout",
     "output_type": "stream",
     "text": [
      "good morning!5\n"
     ]
    }
   ],
   "source": [
    "# some stuff requires input\n",
    "\n",
    "my_user_var = input('good morning!')"
   ]
  },
  {
   "cell_type": "code",
   "execution_count": 58,
   "id": "b3fe7684",
   "metadata": {},
   "outputs": [
    {
     "data": {
      "text/plain": [
       "'5'"
      ]
     },
     "execution_count": 58,
     "metadata": {},
     "output_type": "execute_result"
    }
   ],
   "source": [
    "my_user_var"
   ]
  },
  {
   "cell_type": "code",
   "execution_count": 59,
   "id": "3358620b",
   "metadata": {},
   "outputs": [
    {
     "ename": "TypeError",
     "evalue": "'>' not supported between instances of 'str' and 'int'",
     "output_type": "error",
     "traceback": [
      "\u001b[0;31m---------------------------------------------------------------------------\u001b[0m",
      "\u001b[0;31mTypeError\u001b[0m                                 Traceback (most recent call last)",
      "\u001b[0;32m/var/folders/f5/r0cvcy8d6bl6nqmwjp01nhjh0000gn/T/ipykernel_17301/3726753132.py\u001b[0m in \u001b[0;36m<module>\u001b[0;34m\u001b[0m\n\u001b[0;32m----> 1\u001b[0;31m \u001b[0mmy_user_var\u001b[0m \u001b[0;34m>\u001b[0m \u001b[0;36m4\u001b[0m\u001b[0;34m\u001b[0m\u001b[0;34m\u001b[0m\u001b[0m\n\u001b[0m",
      "\u001b[0;31mTypeError\u001b[0m: '>' not supported between instances of 'str' and 'int'"
     ]
    }
   ],
   "source": [
    "my_user_var > 4"
   ]
  },
  {
   "cell_type": "code",
   "execution_count": null,
   "id": "a84e07a6",
   "metadata": {},
   "outputs": [],
   "source": []
  },
  {
   "cell_type": "code",
   "execution_count": 63,
   "id": "6f5a9eb8",
   "metadata": {},
   "outputs": [],
   "source": [
    "breakfast = 'banana'"
   ]
  },
  {
   "cell_type": "code",
   "execution_count": 65,
   "id": "5b18d382",
   "metadata": {},
   "outputs": [
    {
     "data": {
      "text/plain": [
       "'banana'"
      ]
     },
     "execution_count": 65,
     "metadata": {},
     "output_type": "execute_result"
    }
   ],
   "source": [
    "breakfast.lower()"
   ]
  },
  {
   "cell_type": "code",
   "execution_count": 66,
   "id": "4a5f4e2d",
   "metadata": {},
   "outputs": [
    {
     "name": "stdout",
     "output_type": "stream",
     "text": [
      "Object `lower` not found.\n"
     ]
    }
   ],
   "source": [
    ".lower?"
   ]
  },
  {
   "cell_type": "code",
   "execution_count": 67,
   "id": "b6e6f5dd",
   "metadata": {},
   "outputs": [],
   "source": [
    "str.lower?\n",
    "# str.lower?\n",
    "#if we want to get documentation on a method, we can also use the ?"
   ]
  },
  {
   "cell_type": "code",
   "execution_count": null,
   "id": "32540830",
   "metadata": {},
   "outputs": [],
   "source": [
    "# while loops:\n",
    "# see annoy_me.py\n",
    "#if this condition is true, keep doing this action"
   ]
  },
  {
   "cell_type": "code",
   "execution_count": null,
   "id": "4dbe134f",
   "metadata": {},
   "outputs": [],
   "source": [
    "# for loops:\n",
    "# for everything in the buch of things, do this"
   ]
  },
  {
   "cell_type": "code",
   "execution_count": 68,
   "id": "62f87f89",
   "metadata": {},
   "outputs": [],
   "source": [
    "my_fruit_list = ['bannana','apple','persimmon','grapefruit','kiwi']"
   ]
  },
  {
   "cell_type": "code",
   "execution_count": 69,
   "id": "a9eb30fe",
   "metadata": {},
   "outputs": [
    {
     "data": {
      "text/plain": [
       "['bannana', 'apple', 'persimmon', 'grapefruit', 'kiwi']"
      ]
     },
     "execution_count": 69,
     "metadata": {},
     "output_type": "execute_result"
    }
   ],
   "source": [
    "my_fruit_list"
   ]
  },
  {
   "cell_type": "code",
   "execution_count": 70,
   "id": "6ad7f45e",
   "metadata": {},
   "outputs": [
    {
     "name": "stdout",
     "output_type": "stream",
     "text": [
      "bannana\n",
      "apple\n",
      "persimmon\n",
      "grapefruit\n",
      "kiwi\n"
     ]
    }
   ],
   "source": [
    "# lets build out a loop arounf by fruit list\n",
    "\n",
    "for item in my_fruit_list:\n",
    "    print(item)"
   ]
  },
  {
   "cell_type": "code",
   "execution_count": 72,
   "id": "0817e62d",
   "metadata": {},
   "outputs": [
    {
     "name": "stdout",
     "output_type": "stream",
     "text": [
      "0\n",
      "bannana\n",
      "1\n",
      "apple\n",
      "2\n",
      "persimmon\n",
      "3\n",
      "grapefruit\n",
      "4\n",
      "kiwi\n"
     ]
    }
   ],
   "source": [
    "# we can get both the index and the value\n",
    "for i, item in enumerate(my_fruit_list):\n",
    "    print(i)\n",
    "    print(item)"
   ]
  },
  {
   "cell_type": "code",
   "execution_count": 75,
   "id": "d6dd658f",
   "metadata": {},
   "outputs": [
    {
     "data": {
      "text/plain": [
       "[(0, 'bannana'),\n",
       " (1, 'apple'),\n",
       " (2, 'persimmon'),\n",
       " (3, 'grapefruit'),\n",
       " (4, 'kiwi')]"
      ]
     },
     "execution_count": 75,
     "metadata": {},
     "output_type": "execute_result"
    }
   ],
   "source": [
    "list(enumerate(my_fruit_list))"
   ]
  },
  {
   "cell_type": "code",
   "execution_count": 81,
   "id": "ce4dd922",
   "metadata": {},
   "outputs": [
    {
     "name": "stdout",
     "output_type": "stream",
     "text": [
      "this fruit is a bannana!\n",
      "again?\n",
      "this fruit is a apple!\n"
     ]
    }
   ],
   "source": [
    "# getting picky\n",
    "for fruit in my_fruit_list:\n",
    "    if fruit == 'persimmon':\n",
    "        continue\n",
    "        print('am i here?')\n",
    "    if fruit == 'apple':\n",
    "        pass\n",
    "        print('again?')\n",
    "    if fruit == 'grapefruit':\n",
    "        break\n",
    "    print(f'this fruit is a {fruit}!')"
   ]
  },
  {
   "cell_type": "code",
   "execution_count": null,
   "id": "158fd1fc",
   "metadata": {},
   "outputs": [],
   "source": []
  },
  {
   "cell_type": "code",
   "execution_count": null,
   "id": "f7183b79",
   "metadata": {},
   "outputs": [],
   "source": []
  }
 ],
 "metadata": {
  "kernelspec": {
   "display_name": "Python 3 (ipykernel)",
   "language": "python",
   "name": "python3"
  },
  "language_info": {
   "codemirror_mode": {
    "name": "ipython",
    "version": 3
   },
   "file_extension": ".py",
   "mimetype": "text/x-python",
   "name": "python",
   "nbconvert_exporter": "python",
   "pygments_lexer": "ipython3",
   "version": "3.9.13"
  }
 },
 "nbformat": 4,
 "nbformat_minor": 5
}
