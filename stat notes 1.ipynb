{
 "cells": [
  {
   "cell_type": "code",
   "execution_count": 2,
   "id": "040be877",
   "metadata": {},
   "outputs": [],
   "source": [
    "%matplotlib inline\n",
    "import numpy as np\n",
    "import pandas as pd\n",
    "\n",
    "np.random.seed(29)\n"
   ]
  },
  {
   "cell_type": "code",
   "execution_count": 3,
   "id": "4d888eca",
   "metadata": {},
   "outputs": [],
   "source": [
    "import pandas as pd\n",
    "import numpy as np\n",
    "import scipy.stats as stats\n",
    "import matplotlib.pyplot as plt\n",
    "import seaborn as sns\n",
    "from math import sqrt\n",
    "\n",
    "plt.rc('axes.spines', top=False, right=False)\n",
    "plt.rc('figure', figsize=(9, 6))\n",
    "\n",
    "def simulation_example1(sums_by_trial):\n",
    "    freq, bins = np.histogram(sums_by_trial, bins=range(2, 21))\n",
    "    freq = freq / freq.sum() # raw number -> percent\n",
    "    plt.bar(bins[:-1], freq, width=1, color='white', edgecolor='black')\n",
    "    plt.bar(bins[-8:-1], freq[-7:], width=1, color='lightblue', edgecolor='black')\n",
    "\n",
    "    plt.xticks(range(3, 19))\n",
    "    plt.ylabel('% of the time we get this sum')\n",
    "    plt.xlabel('Sum of rolls')\n",
    "\n",
    "    num_rolls = '{:,}'.format(len(sums_by_trial))\n",
    "    plt.title(f'Sum of 3 dice rolls based on {num_rolls} simulations')\n",
    "    plt.xlim(1, 23)\n",
    "    plt.annotate('', xy=(13, .11), xytext=(18, .11), xycoords='data',\n",
    "                 textcoords='data', arrowprops={'arrowstyle': '|-|'})\n",
    "    plt.text(14.5, .12, 'P(X > 12)', ha='left', va='center')\n",
    "\n",
    "def simulation_example2(naps):\n",
    "    f, bins = np.histogram(naps.sum(axis=1), bins=[0, 1, 2, 3])\n",
    "\n",
    "    f = f / f.sum()\n",
    "\n",
    "    plt.bar(bins[:-1], f, width=1, color='lightskyblue', edgecolor='black')\n",
    "    plt.xticks([0, 1, 2])\n",
    "    plt.xlabel('# of naps taken')\n",
    "    plt.ylabel('% of time this outcome occurs')\n",
    "    plt.title('Results of 10,000 simulations of toddler naps over a weekend')\n",
    "\n",
    "def distributions_example1(die_distribution):\n",
    "    x = [1, 2, 3]\n",
    "    y = die_distribution.pmf(x)\n",
    "    plt.bar(x, y, width=1, color='papayawhip', edgecolor='black')\n",
    "\n",
    "    x = [4, 5, 6]\n",
    "    y = die_distribution.pmf(x)\n",
    "    plt.bar(x, y, width=1, color='white', edgecolor='black')\n",
    "\n",
    "    plt.title('P(X <= 3) = 0.5')\n",
    "    plt.ylabel('P(X = x)')\n",
    "    plt.xlabel('x')\n",
    "\n",
    "def distributions_example2(die_distribution):\n",
    "    x = [1, 2, 3, 4]\n",
    "    y = die_distribution.pmf(x)\n",
    "    plt.bar(x, y, width=1, color='white', edgecolor='black')\n",
    "\n",
    "    x = [5, 6]\n",
    "    y = die_distribution.pmf(x)\n",
    "    plt.bar(x, y, width=1, color='papayawhip', edgecolor='black')\n",
    "\n",
    "    plt.title('P(X > 4) = {:.3f}'.format(die_distribution.sf(4)))\n",
    "    plt.ylabel('P(X = x)')\n",
    "    plt.xlabel('x')\n",
    "\n",
    "def distributions_example3():\n",
    "    n = 30\n",
    "    p = .25\n",
    "\n",
    "    x = np.arange(0, 21)\n",
    "    pmf_x = stats.binom(n, p).pmf(x)\n",
    "    cdf_x = stats.binom(n, p).cdf(x)\n",
    "\n",
    "    fig, (ax1, ax2) = plt.subplots(2, 1, figsize=(10, 8))\n",
    "\n",
    "    ax1.bar(x, pmf_x, width=1, edgecolor='black', color='white')\n",
    "    ax1.set_ylabel('$P(X = x)$')\n",
    "    ax1.set_xticks(range(21))\n",
    "    ax1.set_title('Probability Mass Function')\n",
    "\n",
    "    ax2.bar(x, cdf_x, width=1, color='white', edgecolor='black')\n",
    "    ax2.set_title('Cumulative Density Function')\n",
    "    ax2.set_ylabel('$P(X \\leq x)$')\n",
    "    ax2.set_xticks(range(21))\n",
    "    ax2.set_xlabel('x')\n",
    "\n",
    "def distributions_example4():\n",
    "    plt.figure(figsize=(8, 5))\n",
    "\n",
    "    x1 = np.arange(0, 11)\n",
    "    y1 = stats.binom(30, .25).pmf(x1)\n",
    "    plt.bar(x1, y1, width=1, edgecolor='black', color='white')\n",
    "\n",
    "    x2 = np.arange(11, 31)\n",
    "    y2 = stats.binom(30, .25).pmf(x2)\n",
    "    plt.bar(x2, y2, width=1, edgecolor='black', color='darkseagreen')\n",
    "\n",
    "    plt.title('Binomial Distribution with n=30, p=.25')\n",
    "    plt.ylabel('pmf(x)')\n",
    "    plt.xlabel('x')\n",
    "\n",
    "    plt.annotate('', xy=(11, .07), xytext=(30, .07), xycoords='data', textcoords='data', arrowprops={'arrowstyle': '|-|'})\n",
    "    plt.text(20, .08, 'P(X > 10)', ha='center', va='center')\n",
    "\n",
    "def distributions_example5():\n",
    "    x = np.arange(1, 21)\n",
    "    y = stats.binom(20, .05).pmf(x)\n",
    "    plt.bar(x, y, width=1, edgecolor='black', color='white')\n",
    "\n",
    "    plt.bar(0, stats.binom(20, .05).pmf(0), width=1, color='darkseagreen', edgecolor='black')\n",
    "    plt.title('Binomial Distribution for n=20, p=.05')\n",
    "    plt.xlabel('x')\n",
    "    plt.ylabel('pmf(x)')\n",
    "\n",
    "    plt.annotate('$P(X = 0) = {:.3f}$'.format(stats.binom(20, .05).pmf(0)),\n",
    "                 (0, stats.binom(20, .05).pmf(0)), xytext=(5, .25),\n",
    "                 arrowprops={'arrowstyle': '->'})\n",
    "\n",
    "def distributions_example6():\n",
    "    n = 1000\n",
    "\n",
    "    plt.figure(figsize=(16, 10))\n",
    "\n",
    "    for i, p in enumerate([0.1, 0.5, 0.75, 0.9]):\n",
    "        plt.subplot(2, 2, i + 1)\n",
    "        x = stats.binom.rvs(size=n, p=p, n=10)\n",
    "        plt.hist(x, width=1, bins=range(12), edgecolor='black', align='left')\n",
    "        plt.title(f'{n:,} samples from p={p}, n=10')\n",
    "        plt.xticks(range(12))\n",
    "        plt.xlabel('Number of Successes in 10 trials')\n",
    "        plt.ylabel('')\n",
    "\n",
    "def distributions_example7(μ, σ):\n",
    "    sales = stats.norm(μ, σ)\n",
    "    top_10_percent_cutoff = sales.ppf(.9)\n",
    "    x = np.arange(μ - 4*σ, μ + 4*σ, 100)\n",
    "    y = sales.pdf(x)\n",
    "\n",
    "    plt.plot(x, y, color='black')\n",
    "    plt.vlines([μ, sales.ppf(.9)], 0, [sales.pdf(μ), sales.pdf(sales.ppf(.9))], linestyle=':')\n",
    "    plt.title(f'A Normal Distribution with μ={μ}, σ={σ}')\n",
    "\n",
    "    x1 = np.arange(top_10_percent_cutoff, μ + 4*σ)\n",
    "    y1 = sales.pdf(x1)\n",
    "\n",
    "    plt.fill_between(x1, y1, color='darkseagreen')\n",
    "\n",
    "    plt.annotate(f'${top_10_percent_cutoff:,.2f}', (top_10_percent_cutoff, sales.pdf(top_10_percent_cutoff)),\n",
    "                 xytext=(15000, .0001), arrowprops={'arrowstyle': '->'})\n",
    "    plt.annotate(f'Top 10% of Sales', (15500, .000025), xytext=(15500, .00005), arrowprops={'arrowstyle': '->'})\n",
    "    plt.annotate(f'Average Sales, ${μ:,.2f}', (μ, sales.pdf(μ)), xytext=(13300, .00018), arrowprops={'arrowstyle': '->'})\n",
    "\n",
    "    plt.ylabel('P(X = x)')\n",
    "    plt.xlabel('x')\n",
    "\n",
    "def distributions_example8():\n",
    "    n = 10_000\n",
    "\n",
    "    plt.figure(figsize=(12, 9))\n",
    "    plt.suptitle(f'Normal Distribution, {n:,} simulations')\n",
    "    colors = ['blue', 'red', 'green', 'orange']\n",
    "    for i, vals in enumerate([(50, 10), (100, 20), (100, 40), (150, 50)]):\n",
    "        mu, sigma = vals\n",
    "        x = stats.norm.rvs(size=n, loc=mu, scale=sigma)\n",
    "        sns.distplot(x, color=colors[i], label=f'$\\mu$={mu}, $\\sigma$={sigma}')\n",
    "\n",
    "    plt.xlabel('x')\n",
    "    plt.legend()\n",
    "\n",
    "def distributions_example10():\n",
    "    x = range(16)\n",
    "    y = stats.poisson(5).pmf(x)\n",
    "\n",
    "    plt.figure(figsize=(9, 6))\n",
    "    plt.bar(x, y, edgecolor='black', color='white', width=1)\n",
    "    plt.xticks(x)\n",
    "    plt.ylabel('P(X = x)')\n",
    "    plt.xlabel('lbs of coffee consumed')\n",
    "    plt.bar(3, stats.poisson(5).pmf(3), width=1, color='darkseagreen', edgecolor='black')\n",
    "    plt.annotate(f'P(X = 3) = {stats.poisson(5).pmf(3):.3f}', (3, stats.poisson(5).pmf(3)),\n",
    "                 xytext=(7, .16), arrowprops={'arrowstyle': '->'})\n",
    "\n",
    "def distributions_example11():\n",
    "    x = range(16)\n",
    "    y = stats.poisson(5).pmf(x)\n",
    "\n",
    "    plt.figure(figsize=(9, 6))\n",
    "    plt.bar(x, y, edgecolor='black', color='white', width=1)\n",
    "    plt.xticks(x)\n",
    "    plt.ylabel('P(X = x)')\n",
    "    plt.xlabel('lbs of coffee consumed')\n",
    "\n",
    "    x1 = range(8, 16)\n",
    "    y1 = stats.poisson(5).pmf(x1)\n",
    "\n",
    "    plt.bar(x1, y1, width=1, color='darkseagreen', edgecolor='black')\n",
    "    # plt.annotate(f'P(X = 3) = {stats.poisson(5).pmf(3)}', (3, stats.poisson(5).pmf(3)),\n",
    "    #              xytext=(7, .16), arrowprops={'arrowstyle': '->'})\n",
    "\n",
    "    plt.annotate('', xy=(8, .08), xytext=(15, .08), xycoords='data', textcoords='data', arrowprops={'arrowstyle': '<|-'})\n",
    "    plt.text(11.5, .09, 'P(X > 7)', va='center', ha='center')\n",
    "\n",
    "def distributions_example12():\n",
    "    plt.figure(figsize=(13, 10))\n",
    "\n",
    "    n = 10_000\n",
    "\n",
    "    plt.suptitle(f'Poisson Distribution, {n:,} simulations')\n",
    "    all_bins = [[0, 7], [0, 21], [0, 21], [60, 140, 10]]\n",
    "    for i, mu in enumerate([1, 5, 10, 100]):\n",
    "        plt.subplot(2, 2, i + 1)\n",
    "        x = stats.poisson(mu).rvs(n)\n",
    "        bins = all_bins[i]\n",
    "        plt.hist(x, bins=range(*bins), align='left', edgecolor='black', color='white')\n",
    "        plt.title(f'$\\mu$={mu}')\n",
    "        plt.xlabel('Number of events') if i > 1 else None\n",
    "        plt.ylabel('')\n",
    "\n",
    "def compare_means_example1(df):\n",
    "    def pdf(x):\n",
    "        return stats.t(degf).pdf(x)\n",
    "\n",
    "    lefties = df[df.handedness == 'left']\n",
    "\n",
    "    μ = df.exam_score.mean()\n",
    "    xbar = lefties.exam_score.mean()\n",
    "    s = lefties.exam_score.std()\n",
    "    n = lefties.shape[0]\n",
    "    degf = n - 1\n",
    "    standard_error = s / sqrt(n)\n",
    "\n",
    "    t = (xbar - μ) / (s / sqrt(n))\n",
    "\n",
    "    x = np.linspace(-4, 4)\n",
    "    y = pdf(x)\n",
    "    x_fill = np.linspace(t, 4)\n",
    "    y_fill = pdf(x_fill)\n",
    "    x_fill_neg = np.linspace(-4, -t)\n",
    "    y_fill_neg = pdf(x_fill_neg)\n",
    "\n",
    "    plt.figure(figsize=(10, 6))\n",
    "    plt.plot(x, y)\n",
    "    plt.ylim(0, .5)\n",
    "\n",
    "    plt.fill_between(x_fill, y_fill, color='yellow')\n",
    "    plt.fill_between(x_fill_neg, y_fill_neg, color='yellow')\n",
    "\n",
    "    plt.vlines([0, t, -t], 0, [pdf(0), pdf(t), pdf(-t)], linestyles=':')\n",
    "\n",
    "    plt.annotate('$H_0: t = 0$', (0, pdf(0)), xytext=(-.5, .45), arrowprops={'facecolor': 'blue'})\n",
    "    plt.annotate(f'$t = {t:.3f}$', (t, pdf(t)), xytext=(1, .35), arrowprops={'facecolor': 'yellow'})\n",
    "    plt.annotate(f'$t = -{t:.3f}$', (-t, pdf(-t)), xytext=(-2, .35), arrowprops={'facecolor': 'yellow'})\n",
    "\n",
    "def compare_means_example2(df):\n",
    "    def pdf(x):\n",
    "        return stats.t(degf).pdf(x)\n",
    "\n",
    "    x1 = df[df.study_strategy == 'flashcards'].exam_score\n",
    "    x2 = df[df.study_strategy != 'flashcards'].exam_score\n",
    "\n",
    "    xbar1 = x1.mean()\n",
    "    xbar2 = x2.mean()\n",
    "\n",
    "    n1 = x1.shape[0]\n",
    "    n2 = x2.shape[0]\n",
    "\n",
    "    s1 = x1.std()\n",
    "    s2 = x2.std()\n",
    "\n",
    "    degf = n1 + n2 - 2\n",
    "\n",
    "    s_p = sqrt(((n1 - 1) * s1**2 + (n2 - 1) * s2**2) / (n1 + n2 - 2))\n",
    "    s_p\n",
    "\n",
    "    standard_error = se = sqrt(s1**2 / n1 + s2**2 / n2)\n",
    "\n",
    "    t = (xbar1 - xbar2) / (s_p * sqrt(1/n1 + 1/n2))\n",
    "    t\n",
    "\n",
    "    x = np.linspace(-6, 6)\n",
    "    y = pdf(x)\n",
    "    x_fill = np.linspace(t, 6)\n",
    "    y_fill = pdf(x_fill)\n",
    "    x_fill_neg = np.linspace(-6, -t)\n",
    "    y_fill_neg = pdf(x_fill_neg)\n",
    "\n",
    "    plt.figure(figsize=(10, 6))\n",
    "    plt.plot(x, y)\n",
    "    plt.ylim(0, .5)\n",
    "\n",
    "    plt.fill_between(x_fill, y_fill, color='yellow')\n",
    "    plt.fill_between(x_fill_neg, y_fill_neg, color='yellow')\n",
    "\n",
    "    plt.vlines([0, t, -t], 0, [pdf(0), pdf(t), pdf(-t)], linestyles=':')\n",
    "\n",
    "    plt.annotate('$H_0: t = 0$', (0, pdf(0)), xytext=(-.5, .45), arrowprops={'facecolor': 'blue'})\n",
    "    plt.annotate(f'$t = {t:.3f}$', (t, pdf(t)), xytext=(4, .06), arrowprops={'facecolor': 'yellow'})\n",
    "    plt.annotate(f'$t = -{t:.3f}$', (-t, pdf(-t)), xytext=(-4, .06), arrowprops={'facecolor': 'yellow'})\n",
    "\n",
    "# ## More Hypothesis Testing Examples ###\n",
    "\n",
    "tips = sns.load_dataset('tips')\n",
    "\n",
    "def more_examples_example1():\n",
    "    plt.figure(figsize=(9, 6))\n",
    "    r, p = stats.pearsonr(tips.total_bill, tips.tip)\n",
    "    plt.scatter(tips.total_bill, tips.tip, c='green', alpha=.7)\n",
    "    plt.ylabel('Tip Amount')\n",
    "    plt.xlabel('Total Bill')\n",
    "    plt.title('Total Bill vs Tip Amount')\n",
    "    plt.text(12, 8, f'r = {r:.3f}')\n",
    "\n",
    "def more_examples_example2():\n",
    "    plt.figure(figsize=(9, 6))\n",
    "    smokers_total_bills = tips[tips.smoker == 'Yes'].total_bill\n",
    "    overall_total_bill_mean = tips.total_bill.mean()\n",
    "\n",
    "    smoker_bill_mean = smokers_total_bills.mean()\n",
    "\n",
    "    plt.bar(['Smoker Avg', 'Overall Avg'], [smoker_bill_mean, overall_total_bill_mean], color='purple')\n",
    "    plt.ylabel('Bill Amount ($)')\n",
    "    plt.ylim(0, tips.total_bill.max())\n",
    "    plt.gca().spines['top'].set_visible(False)\n",
    "    plt.gca().spines['left'].set_visible(False)\n",
    "    plt.gca().spines['right'].set_visible(False)\n",
    "\n",
    "    plt.text(0, 16, f'${smoker_bill_mean:.2f}', horizontalalignment='center', color='white')\n",
    "    plt.text(1, 15, f'${overall_total_bill_mean:.2f}', horizontalalignment='center', color='white')\n",
    "\n",
    "    plt.annotate(f'Highest Bill, ${tips.total_bill.max():.2f}', (.2, 50),\n",
    "                 xytext=(.5, 40), arrowprops={'facecolor': 'blue'})\n",
    "\n",
    "    plt.hlines(tips.total_bill.max(), -.5, 1.5, linestyle=':')\n",
    "\n",
    "def more_examples_example3():\n",
    "    plt.figure(figsize=(9, 6))\n",
    "    parties_of_2 = tips[tips['size'] == 2]\n",
    "    parties_of_4 = tips[tips['size'] == 4]\n",
    "    test_results = stats.ttest_ind(parties_of_2.tip, parties_of_4.tip)\n",
    "\n",
    "    mean_2 = parties_of_2.tip.mean()\n",
    "    mean_4 = parties_of_4.tip.mean()\n",
    "\n",
    "    plt.bar(['Parties of 2', 'Parties of 4'], [mean_2, mean_4], color='purple')\n",
    "    plt.ylabel('Tip Amount ($)')\n",
    "    plt.ylim(0, tips.tip.max())\n",
    "\n",
    "    plt.gca().spines['top'].set_visible(False)\n",
    "    plt.gca().spines['left'].set_visible(False)\n",
    "    plt.gca().spines['right'].set_visible(False)\n",
    "\n",
    "    plt.text(0, 1.5, f'${mean_2:.2f}', horizontalalignment='center', color='white')\n",
    "    plt.text(1, 2, f'${mean_4:.2f}', horizontalalignment='center', color='white')\n",
    "\n",
    "    plt.annotate(f'Highest Tip, ${tips.tip.max():.2f}', (.2, tips.tip.max()),\n",
    "                 xytext=(.5, 8), arrowprops={'facecolor': 'blue'})\n",
    "    plt.annotate(f'Average Tip, ${tips.tip.mean():.2f}', (1.5, tips.tip.mean()),\n",
    "                 xytext=(1.5, 6), arrowprops={'facecolor': 'blue'})\n",
    "\n",
    "    plt.hlines([tips.tip.mean(), tips.tip.max()], -.5, 1.5, linestyle='--')"
   ]
  },
  {
   "cell_type": "code",
   "execution_count": 47,
   "id": "9ff2131f",
   "metadata": {},
   "outputs": [
    {
     "data": {
      "text/plain": [
       "array([[2, 6, 1],\n",
       "       [5, 2, 3],\n",
       "       [3, 4, 2],\n",
       "       ...,\n",
       "       [4, 4, 3],\n",
       "       [6, 5, 3],\n",
       "       [5, 3, 4]])"
      ]
     },
     "execution_count": 47,
     "metadata": {},
     "output_type": "execute_result"
    }
   ],
   "source": [
    "n_trials = nrows = 10_000\n",
    "n_dice = ncols = 3\n",
    "\n",
    "rolls = np.random.choice([1, 2, 3, 4, 5, 6], n_trials * n_dice).reshape(nrows, ncols)\n",
    "rolls\n"
   ]
  },
  {
   "cell_type": "code",
   "execution_count": 48,
   "id": "698b0a6e",
   "metadata": {},
   "outputs": [
    {
     "data": {
      "text/plain": [
       "array([ 9, 10,  9, ..., 11, 14, 12])"
      ]
     },
     "execution_count": 48,
     "metadata": {},
     "output_type": "execute_result"
    }
   ],
   "source": [
    "sums_by_trial = rolls.sum(axis=1)\n",
    "sums_by_trial"
   ]
  },
  {
   "cell_type": "code",
   "execution_count": 49,
   "id": "dcb65bc0",
   "metadata": {},
   "outputs": [
    {
     "data": {
      "image/png": "[encoded data removed]",
      "text/plain": [
       "<Figure size 900x600 with 1 Axes>"
      ]
     },
     "metadata": {},
     "output_type": "display_data"
    }
   ],
   "source": [
    "simulation_example1(sums_by_trial)\n"
   ]
  },
  {
   "cell_type": "code",
   "execution_count": 77,
   "id": "a2772ae7",
   "metadata": {},
   "outputs": [
    {
     "data": {
      "text/plain": [
       "array([False, False, False, ..., False,  True, False])"
      ]
     },
     "execution_count": 77,
     "metadata": {},
     "output_type": "execute_result"
    }
   ],
   "source": [
    "wins = sums_by_trial > 12\n",
    "wins"
   ]
  },
  {
   "cell_type": "code",
   "execution_count": 66,
   "id": "358c0cff",
   "metadata": {},
   "outputs": [
    {
     "data": {
      "text/plain": [
       "0.2658"
      ]
     },
     "execution_count": 66,
     "metadata": {},
     "output_type": "execute_result"
    }
   ],
   "source": [
    "win_rate = wins.astype(int).mean()\n",
    "win_rate"
   ]
  },
  {
   "cell_type": "code",
   "execution_count": 78,
   "id": "4bee37ea",
   "metadata": {},
   "outputs": [
    {
     "data": {
      "text/plain": [
       "-1.0130000000000003"
      ]
     },
     "execution_count": 78,
     "metadata": {},
     "output_type": "execute_result"
    }
   ],
   "source": [
    "expected_winnings = win_rate * 15\n",
    "cost = 5\n",
    "expected_profit = expected_winnings - cost\n",
    "expected_profit"
   ]
  },
  {
   "cell_type": "code",
   "execution_count": 85,
   "id": "f7b1397f",
   "metadata": {},
   "outputs": [
    {
     "data": {
      "text/plain": [
       "0.6820000000000004"
      ]
     },
     "execution_count": 85,
     "metadata": {},
     "output_type": "execute_result"
    }
   ],
   "source": [
    "wins = sums_by_trial >= 12\n",
    "win_rate = wins.astype(int).mean()\n",
    "expected_winnings = win_rate * 15\n",
    "cost = 5\n",
    "expected_profit = expected_winnings - cost\n",
    "expected_profit\n",
    "\n",
    "\n"
   ]
  },
  {
   "cell_type": "code",
   "execution_count": 86,
   "id": "f210e939",
   "metadata": {},
   "outputs": [],
   "source": [
    "p_nap = .3\n",
    "ndays = ncols = 2\n",
    "n_simulated_weekends = nrows = 10**5"
   ]
  },
  {
   "cell_type": "code",
   "execution_count": 88,
   "id": "de07e9aa",
   "metadata": {},
   "outputs": [
    {
     "data": {
      "text/plain": [
       "array([[0.90614173, 0.44714124],\n",
       "       [0.66312255, 0.12460583],\n",
       "       [0.02276447, 0.37916431],\n",
       "       ...,\n",
       "       [0.06948107, 0.21354849],\n",
       "       [0.04984332, 0.35838993],\n",
       "       [0.49342271, 0.52522849]])"
      ]
     },
     "execution_count": 88,
     "metadata": {},
     "output_type": "execute_result"
    }
   ],
   "source": [
    "data = np.random.random((nrows, ncols))\n",
    "data"
   ]
  },
  {
   "cell_type": "code",
   "execution_count": 89,
   "id": "537e8b1b",
   "metadata": {},
   "outputs": [
    {
     "data": {
      "text/plain": [
       "array([[False, False],\n",
       "       [False,  True],\n",
       "       [ True, False],\n",
       "       ...,\n",
       "       [ True,  True],\n",
       "       [ True, False],\n",
       "       [False, False]])"
      ]
     },
     "execution_count": 89,
     "metadata": {},
     "output_type": "execute_result"
    }
   ],
   "source": [
    "naps = data < p_nap\n",
    "naps\n"
   ]
  },
  {
   "cell_type": "code",
   "execution_count": 90,
   "id": "ee17fd24",
   "metadata": {},
   "outputs": [
    {
     "data": {
      "text/plain": [
       "array([0, 1, 1, ..., 2, 1, 0])"
      ]
     },
     "execution_count": 90,
     "metadata": {},
     "output_type": "execute_result"
    }
   ],
   "source": [
    "naps.sum(axis=1)"
   ]
  },
  {
   "cell_type": "code",
   "execution_count": 92,
   "id": "7fe75a24",
   "metadata": {},
   "outputs": [
    {
     "data": {
      "image/png": "[encoded data removed]",
      "text/plain": [
       "<Figure size 900x600 with 1 Axes>"
      ]
     },
     "metadata": {},
     "output_type": "display_data"
    }
   ],
   "source": [
    "simulation_example2(naps)\n"
   ]
  },
  {
   "cell_type": "code",
   "execution_count": 93,
   "id": "d8164088",
   "metadata": {},
   "outputs": [
    {
     "data": {
      "text/plain": [
       "0.5092"
      ]
     },
     "execution_count": 93,
     "metadata": {},
     "output_type": "execute_result"
    }
   ],
   "source": [
    "(naps.sum(axis=1) >= 1).mean()\n"
   ]
  },
  {
   "cell_type": "code",
   "execution_count": 94,
   "id": "68877bdc",
   "metadata": {},
   "outputs": [
    {
     "data": {
      "text/plain": [
       "0.4908"
      ]
     },
     "execution_count": 94,
     "metadata": {},
     "output_type": "execute_result"
    }
   ],
   "source": [
    "(naps.sum(axis=1) == 0).mean()\n"
   ]
  },
  {
   "cell_type": "code",
   "execution_count": 95,
   "id": "e30acdd4",
   "metadata": {},
   "outputs": [
    {
     "data": {
      "text/plain": [
       "0.42164"
      ]
     },
     "execution_count": 95,
     "metadata": {},
     "output_type": "execute_result"
    }
   ],
   "source": [
    "n_simulations = nrows = 10**5\n",
    "n_dice_rolled = ncols = 3\n",
    "\n",
    "rolls = np.random.choice([1, 2, 3, 4, 5, 6], nrows * ncols).reshape(nrows, ncols)\n",
    "\n",
    "(pd.DataFrame(rolls)\n",
    " .apply(lambda row: 3 in row.values, axis=1)\n",
    " .mean())\n"
   ]
  },
  {
   "cell_type": "code",
   "execution_count": null,
   "id": "c792be4f",
   "metadata": {},
   "outputs": [],
   "source": []
  },
  {
   "cell_type": "code",
   "execution_count": null,
   "id": "c7924140",
   "metadata": {},
   "outputs": [],
   "source": []
  },
  {
   "cell_type": "code",
   "execution_count": null,
   "id": "e7fd571b",
   "metadata": {},
   "outputs": [],
   "source": []
  },
  {
   "cell_type": "code",
   "execution_count": null,
   "id": "59c9ef3d",
   "metadata": {},
   "outputs": [],
   "source": []
  },
  {
   "cell_type": "code",
   "execution_count": null,
   "id": "7dca3444",
   "metadata": {},
   "outputs": [],
   "source": []
  },
  {
   "cell_type": "code",
   "execution_count": null,
   "id": "6e3e93c2",
   "metadata": {},
   "outputs": [],
   "source": []
  },
  {
   "cell_type": "code",
   "execution_count": null,
   "id": "417f7fc6",
   "metadata": {},
   "outputs": [],
   "source": []
  }
 ],
 "metadata": {
  "kernelspec": {
   "display_name": "Python 3 (ipykernel)",
   "language": "python",
   "name": "python3"
  },
  "language_info": {
   "codemirror_mode": {
    "name": "ipython",
    "version": 3
   },
   "file_extension": ".py",
   "mimetype": "text/x-python",
   "name": "python",
   "nbconvert_exporter": "python",
   "pygments_lexer": "ipython3",
   "version": "3.9.13"
  }
 },
 "nbformat": 4,
 "nbformat_minor": 5
}
